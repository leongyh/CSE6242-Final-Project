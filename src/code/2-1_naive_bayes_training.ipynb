{
 "cells": [
  {
   "cell_type": "code",
   "execution_count": 1,
   "metadata": {},
   "outputs": [],
   "source": [
    "from pyspark.sql import SparkSession\n",
    "from pyspark.sql.types import StructType, StructField, IntegerType, StringType, LongType, DoubleType\n",
    "from pyspark.sql.functions import lit, isnan, size, col"
   ]
  },
  {
   "cell_type": "code",
   "execution_count": 2,
   "metadata": {},
   "outputs": [],
   "source": [
    "STS_RAW_TRAIN_FILE = '../data/sts/training.1600000.processed.noemoticon.csv'\n",
    "STS_RAW_TEST_FILE  = '../data/sts/testdata.manual.2009.06.14.csv'\n",
    "\n",
    "STS_PROCESED_TRAIN_PATH = '../data/processed/sts/sts_train'\n",
    "STS_PROCESED_TEST_PATH  = '../data/processed/sts/sts_test'\n",
    "\n",
    "COVID_PROCESSED_PATH = '../data/processed/full-tweets-sanitized/tweets-sanitized'"
   ]
  },
  {
   "cell_type": "code",
   "execution_count": 3,
   "metadata": {},
   "outputs": [],
   "source": [
    "spark = SparkSession.builder.master('local').appName('local').getOrCreate()"
   ]
  },
  {
   "cell_type": "markdown",
   "metadata": {},
   "source": [
    "# Load Data"
   ]
  },
  {
   "cell_type": "code",
   "execution_count": 4,
   "metadata": {},
   "outputs": [],
   "source": [
    "sts_raw_schema = StructType([\n",
    "    StructField('label', IntegerType(), True),\n",
    "    StructField('id', LongType(), True),\n",
    "    StructField('date', StringType(), True),\n",
    "    StructField('query', StringType(), True),\n",
    "    StructField('user', StringType(), True),\n",
    "    StructField('text', StringType(), True),\n",
    "])\n",
    "\n",
    "sts_processed_schema = StructType([\n",
    "    StructField('id', LongType(), True),\n",
    "    StructField('text', StringType(), True),\n",
    "])\n",
    "\n",
    "covid_processed_schema = StructType([\n",
    "    StructField('id', LongType(), True),\n",
    "    StructField('text', StringType(), True),\n",
    "])"
   ]
  },
  {
   "cell_type": "code",
   "execution_count": 5,
   "metadata": {},
   "outputs": [],
   "source": [
    "# Google Drive file name     - md5sum \n",
    "# Final_preprocessed_sts.csv - ec4e0de0560e2ce9a3c11055b6f41894\n",
    "# Test_data_processed.csv    - ee4e572acdbb6dc129ca397f7d3f37bc\n",
    "# \n",
    "# Recover the labels from the raw data necessary for training and testing\n",
    "# \n",
    "df_sts_processed_train = spark.read.csv(STS_PROCESED_TRAIN_PATH + '/' + '*.csv', header=False, schema=sts_processed_schema).withColumn('type', lit('train'))\n",
    "df_sts_processed_test  = spark.read.csv(STS_PROCESED_TEST_PATH + '/' + '*.csv', header=False, schema=sts_processed_schema).withColumn('type', lit('test'))\n",
    "\n",
    "df_sts_raw_train = spark.read.csv(STS_RAW_TRAIN_FILE, header=False, schema=sts_raw_schema).select('id', 'text', 'label').withColumnRenamed('text', 'raw_text')\n",
    "df_sts_processed_train_with_labels = df_sts_processed_train.join(df_sts_raw_train, on=['id']).select('id', 'text', 'label', 'type')\n",
    "\n",
    "df_sts_raw_test = spark.read.csv(STS_RAW_TEST_FILE, header=False, schema=sts_raw_schema).select('id', 'text', 'label').withColumnRenamed('text', 'raw_text')\n",
    "df_sts_processed_test_with_labels = df_sts_processed_test.join(df_sts_raw_test, on=['id']).select('id', 'text', 'label', 'type')"
   ]
  },
  {
   "cell_type": "code",
   "execution_count": 6,
   "metadata": {},
   "outputs": [],
   "source": [
    "df_covid_processed     = spark.read.csv(COVID_PROCESSED_PATH + '/' + '*.csv', header=False, schema=covid_processed_schema).select('id', 'text', lit(None).alias('label')).withColumn('type', lit('covid'))"
   ]
  },
  {
   "cell_type": "code",
   "execution_count": 7,
   "metadata": {},
   "outputs": [],
   "source": [
    "df_all = df_sts_processed_train_with_labels.union(df_sts_processed_test_with_labels).union(df_covid_processed)"
   ]
  },
  {
   "cell_type": "code",
   "execution_count": 8,
   "metadata": {},
   "outputs": [],
   "source": [
    "# Clean up null rows on text column\n",
    "df_all = df_all.filter(~ col(\"text\").isNull())"
   ]
  },
  {
   "cell_type": "markdown",
   "metadata": {},
   "source": [
    "# Build Pipeline\n",
    "1. Tokenize Words\n",
    "2. Build Feature Vector"
   ]
  },
  {
   "cell_type": "code",
   "execution_count": 9,
   "metadata": {},
   "outputs": [],
   "source": [
    "from pyspark.ml import Pipeline\n",
    "from pyspark.ml.feature import RegexTokenizer, StopWordsRemover, CountVectorizer"
   ]
  },
  {
   "cell_type": "code",
   "execution_count": 10,
   "metadata": {},
   "outputs": [],
   "source": [
    "# Hyper Parameters\n",
    "VOCAB_SIZE = 5000\n",
    "MIN_DF     = 25\n",
    "\n",
    "# Default Stop Words\n",
    "default_stop_words = StopWordsRemover.loadDefaultStopWords(\"english\")"
   ]
  },
  {
   "cell_type": "code",
   "execution_count": 11,
   "metadata": {},
   "outputs": [],
   "source": [
    "tokenizer          = RegexTokenizer(inputCol=\"text\", outputCol=\"tokenized_text\", pattern=\"\\\\W\")\n",
    "stop_words_remover = StopWordsRemover(inputCol=\"tokenized_text\", outputCol=\"filtered_text\").setStopWords(default_stop_words)\n",
    "vectorizer         = CountVectorizer(inputCol=\"filtered_text\", outputCol=\"features\", vocabSize=VOCAB_SIZE, minDF=MIN_DF)\n",
    "\n",
    "pipeline = Pipeline(stages=[tokenizer, stop_words_remover, vectorizer])"
   ]
  },
  {
   "cell_type": "code",
   "execution_count": 12,
   "metadata": {
    "scrolled": false
   },
   "outputs": [],
   "source": [
    "pipeline_fit = pipeline.fit(df_all)\n",
    "df_all_fit   = pipeline_fit.transform(df_all)"
   ]
  },
  {
   "cell_type": "code",
   "execution_count": 13,
   "metadata": {},
   "outputs": [
    {
     "name": "stdout",
     "output_type": "stream",
     "text": [
      "+----------+--------------------+-----+-----+--------------------+--------------------+--------------------+\n",
      "|        id|                text|label| type|      tokenized_text|       filtered_text|            features|\n",
      "+----------+--------------------+-----+-----+--------------------+--------------------+--------------------+\n",
      "|1467860144|hate limit letter...|    0|train|[hate, limit, let...|[hate, limit, let...|(5000,[22,78,87,2...|\n",
      "|1467862225|website fyi pit w...|    4|train|[website, fyi, pi...|[website, fyi, pi...|(5000,[13,103,151...|\n",
      "|1467889791|call hillsong sai...|    0|train|[call, hillsong, ...|[call, hillsong, ...|(5000,[3,15,24,36...|\n",
      "|1467898027|         thought mac|    4|train|      [thought, mac]|      [thought, mac]|(5000,[138,668],[...|\n",
      "|1467904302|www nicki like ha...|    0|train|[www, nicki, like...|[www, nicki, like...|(5000,[5,60,71,18...|\n",
      "|1467928749|tire ddd want sle...|    0|train|[tire, ddd, want,...|[tire, ddd, want,...|(5000,[13,32,35,1...|\n",
      "|1467946810|  mine find hard fit|    0|train|[mine, find, hard...|[mine, find, hard...|(5000,[180,356,92...|\n",
      "|1467968979|     april come soon|    0|train| [april, come, soon]| [april, come, soon]|(5000,[25,46,1218...|\n",
      "|1467987384|publish new post ...|    4|train|[publish, new, po...|[publish, new, po...|(5000,[10,81,136,...|\n",
      "|1468005581|good figure like ...|    4|train|[good, figure, li...|[good, figure, li...|(5000,[3,5,15,514...|\n",
      "|1468010346|school life sleep...|    0|train|[school, life, sl...|[school, life, sl...|(5000,[2,35,38,52...|\n",
      "|1468038360|source shine haha...|    4|train|[source, shine, h...|[source, shine, h...|(5000,[268,295,91...|\n",
      "|1468070706|                file|    4|train|              [file]|              [file]| (5000,[1342],[1.0])|\n",
      "|1468071555|omg particle fusi...|    4|train|[omg, particle, f...|[omg, particle, f...|(5000,[24,124,171...|\n",
      "|1468071701|         wheelbarrow|    4|train|       [wheelbarrow]|       [wheelbarrow]|        (5000,[],[])|\n",
      "|1468088102|   saw got chang hot|    4|train|[saw, got, chang,...|[saw, got, chang,...|(5000,[11,167,202...|\n",
      "|1468108670|sad weird she let...|    0|train|[sad, weird, she,...|[sad, weird, lett...|(5000,[17,56,127,...|\n",
      "|1468115212|run great thank w...|    0|train|[run, great, than...|[run, great, than...|(5000,[7,12,29,14...|\n",
      "|1468132343|                cold|    0|train|              [cold]|              [cold]|  (5000,[245],[1.0])|\n",
      "|1468132370|           thank man|    4|train|        [thank, man]|        [thank, man]|(5000,[12,107],[1...|\n",
      "+----------+--------------------+-----+-----+--------------------+--------------------+--------------------+\n",
      "only showing top 20 rows\n",
      "\n",
      "+-----+-------+\n",
      "| type|  count|\n",
      "+-----+-------+\n",
      "|covid| 227800|\n",
      "|train|1586214|\n",
      "| test|    498|\n",
      "+-----+-------+\n",
      "\n"
     ]
    }
   ],
   "source": [
    "df_all_fit.show()\n",
    "df_all.groupBy('type').count().show()"
   ]
  },
  {
   "cell_type": "markdown",
   "metadata": {},
   "source": [
    "# Train Naive Bayes\n",
    "Train the NB model"
   ]
  },
  {
   "cell_type": "code",
   "execution_count": 14,
   "metadata": {},
   "outputs": [],
   "source": [
    "from pyspark.ml.classification import NaiveBayes"
   ]
  },
  {
   "cell_type": "code",
   "execution_count": 15,
   "metadata": {},
   "outputs": [],
   "source": [
    "df_train = df_all_fit.filter(df_all_fit.type == 'train')\n",
    "df_test  = df_all_fit.filter(df_all_fit.type == 'test')\n",
    "df_covid = df_all_fit.filter(df_all_fit.type == 'covid')"
   ]
  },
  {
   "cell_type": "code",
   "execution_count": 16,
   "metadata": {},
   "outputs": [],
   "source": [
    "nb = NaiveBayes()\n",
    "model = nb.fit(df_train)"
   ]
  },
  {
   "cell_type": "code",
   "execution_count": 17,
   "metadata": {},
   "outputs": [],
   "source": [
    "preds = model.transform(df_test)"
   ]
  },
  {
   "cell_type": "code",
   "execution_count": 18,
   "metadata": {},
   "outputs": [
    {
     "name": "stdout",
     "output_type": "stream",
     "text": [
      "+---+--------------------+-----+----+--------------------+--------------------+--------------------+--------------------+--------------------+----------+\n",
      "| id|                text|label|type|      tokenized_text|       filtered_text|            features|       rawPrediction|         probability|prediction|\n",
      "+---+--------------------+-----+----+--------------------+--------------------+--------------------+--------------------+--------------------+----------+\n",
      "|  3|kind cool fantasy...|    4|test|[kind, cool, fant...|[kind, cool, fant...|(5000,[39,124,288...|[-29.564370329849...|[0.08533168728110...|       1.0|\n",
      "|  4|read kind love le...|    4|test|[read, kind, love...|[read, kind, love...|(5000,[3,4,40,288...|[-48.013191770529...|[0.06673369582312...|       1.0|\n",
      "|  5|passes kind fuck ...|    4|test|[passes, kind, fu...|[passes, kind, fu...|(5000,[189,272,28...|[-22.161510078466...|[0.39578335310095...|       1.0|\n",
      "|  6|love kind ive mon...|    4|test|[love, kind, ive,...|[love, kind, ive,...|(5000,[4,10,20,24...|[-56.810291567198...|[0.21994317184875...|       1.0|\n",
      "|  7|fair kind think p...|    4|test|[fair, kind, thin...|[fair, kind, thin...|(5000,[19,288,441...|[-29.002185014137...|[0.37861543199793...|       1.0|\n",
      "|  8|      big happy kind|    4|test|  [big, happy, kind]|  [big, happy, kind]|(5000,[33,129,288...|[-21.164003155017...|[0.16591340018019...|       1.0|\n",
      "|  9|fuck economic hat...|    0|test|[fuck, economic, ...|[fuck, economic, ...|(5000,[78,129,189...|[-63.984388309250...|[0.98447423234348...|       0.0|\n",
      "| 10|query new best fr...|    4|test|[query, new, best...|[query, new, best...|(5000,[10,44,76,4...|[-29.203448947129...|[0.16973906475001...|       1.0|\n",
      "| 11|        love twitter|    4|test|     [love, twitter]|     [love, twitter]|(5000,[4,31],[1.0...|[-11.630705862124...|[0.18178007737567...|       1.0|\n",
      "| 12|love obama make joke|    4|test|[love, obama, mak...|[love, obama, mak...|(5000,[4,86,895,2...|[-30.360569853564...|[0.17294134960173...|       1.0|\n",
      "| 13|check video presi...|    2|test|[check, video, pr...|[check, video, pr...|(5000,[101,151,25...|[-54.037081089105...|[0.03879700424761...|       1.0|\n",
      "| 14|firmly believe ob...|    0|test|[firmly, believe,...|[firmly, believe,...|(5000,[13,257,207...|[-62.054296835907...|[0.84354127903195...|       0.0|\n",
      "| 15|house correspond ...|    4|test|[house, correspon...|[house, correspon...|(5000,[11,21,104,...|[-79.068658627237...|[0.14413722482042...|       1.0|\n",
      "| 16|watch espn ju see...|    4|test|[watch, espn, ju,...|[watch, espn, ju,...|(5000,[10,23,265,...|[-84.390953684766...|[0.04359068435848...|       1.0|\n",
      "| 17|dear nike stop fl...|    0|test|[dear, nike, stop...|[dear, nike, stop...|(5000,[4,148,287,...|[-72.638946425098...|[0.83365205497948...|       0.0|\n",
      "| 18|learn best athlet...|    4|test|[learn, best, ath...|[learn, best, ath...|(5000,[6,13,76,26...|[-72.556348041423...|[0.29655194294054...|       1.0|\n",
      "| 19|talk guy night te...|    0|test|[talk, guy, night...|[talk, guy, night...|(5000,[21,78,87,1...|[-72.611516972931...|[0.37962078992513...|       1.0|\n",
      "| 20|          love learn|    4|test|       [love, learn]|       [love, learn]|(5000,[4,265],[1....|[-13.482105416817...|[0.20746910379096...|       1.0|\n",
      "| 21|learn beast cheer...|    0|test|[learn, beast, ch...|[learn, beast, ch...|(5000,[128,265,59...|[-33.104737312360...|[0.25571897384766...|       1.0|\n",
      "| 22|          learn boss|    4|test|       [learn, boss]|       [learn, boss]|(5000,[265,1206],...|[-16.951099596507...|[0.43989604910369...|       1.0|\n",
      "+---+--------------------+-----+----+--------------------+--------------------+--------------------+--------------------+--------------------+----------+\n",
      "only showing top 20 rows\n",
      "\n"
     ]
    }
   ],
   "source": [
    "preds.show()"
   ]
  },
  {
   "cell_type": "markdown",
   "metadata": {},
   "source": [
    "# Testing Naive Bayes Model"
   ]
  },
  {
   "cell_type": "code",
   "execution_count": 19,
   "metadata": {},
   "outputs": [],
   "source": [
    "from pyspark.sql.functions import udf\n",
    "\n",
    "weighted_prob = udf(lambda v: float(v[1]), DoubleType())\n",
    "preds_weighted = preds.withColumn(\"weighted_label\", weighted_prob(\"probability\")).select(\"id\", \"label\", \"prediction\", \"weighted_label\")"
   ]
  },
  {
   "cell_type": "markdown",
   "metadata": {},
   "source": [
    "Since the test set include ground truth neutral labels and the training set do not, we use use the predicted weighted label to determine the hard label:\n",
    "\n",
    "0.0 <= weighted_label < 0.33333: negative\n",
    "\n",
    "0.33333 <= weighted_label < 0.66666 : neutral\n",
    "\n",
    "0.66666 <= weighted_label <= 1.0: positive"
   ]
  },
  {
   "cell_type": "code",
   "execution_count": 20,
   "metadata": {},
   "outputs": [],
   "source": [
    "def get_hard_label(weighted_label):\n",
    "    if 0.0 <= weighted_label < 0.33333:\n",
    "        return 0\n",
    "    elif 0.33333 <= weighted_label < 0.66666:\n",
    "        return 2\n",
    "    elif 0.66666 <= weighted_label <= 1.0:\n",
    "        return 4\n",
    "\n",
    "hard_label_udf = udf(get_hard_label, IntegerType())"
   ]
  },
  {
   "cell_type": "code",
   "execution_count": 21,
   "metadata": {},
   "outputs": [],
   "source": [
    "preds_hard_label = preds_weighted.withColumn(\"predicted_hard_label\", hard_label_udf(\"weighted_label\")).select(\"id\", \"label\", \"predicted_hard_label\", \"weighted_label\")"
   ]
  },
  {
   "cell_type": "code",
   "execution_count": 22,
   "metadata": {
    "scrolled": true
   },
   "outputs": [
    {
     "name": "stdout",
     "output_type": "stream",
     "text": [
      "+---+-----+--------------------+--------------------+\n",
      "| id|label|predicted_hard_label|      weighted_label|\n",
      "+---+-----+--------------------+--------------------+\n",
      "|  3|    4|                   4|  0.9146683127188987|\n",
      "|  4|    4|                   4|  0.9332663041768712|\n",
      "|  5|    4|                   2|  0.6042166468990409|\n",
      "|  6|    4|                   4|  0.7800568281512443|\n",
      "|  7|    4|                   2|  0.6213845680020688|\n",
      "|  8|    4|                   4|   0.834086599819803|\n",
      "|  9|    0|                   0|0.015525767656515362|\n",
      "| 10|    4|                   4|  0.8302609352499865|\n",
      "| 11|    4|                   4|  0.8182199226243227|\n",
      "| 12|    4|                   4|  0.8270586503982665|\n",
      "| 13|    2|                   4|  0.9612029957523833|\n",
      "| 14|    0|                   0|   0.156458720968048|\n",
      "| 15|    4|                   4|   0.855862775179578|\n",
      "| 16|    4|                   4|  0.9564093156415147|\n",
      "| 17|    0|                   0| 0.16634794502051053|\n",
      "| 18|    4|                   4|  0.7034480570594551|\n",
      "| 19|    0|                   2|  0.6203792100748601|\n",
      "| 20|    4|                   4|  0.7925308962090332|\n",
      "| 21|    0|                   4|  0.7442810261523364|\n",
      "| 22|    4|                   2|  0.5601039508963083|\n",
      "+---+-----+--------------------+--------------------+\n",
      "only showing top 20 rows\n",
      "\n"
     ]
    }
   ],
   "source": [
    "preds_hard_label.show()"
   ]
  },
  {
   "cell_type": "code",
   "execution_count": 23,
   "metadata": {},
   "outputs": [],
   "source": [
    "from pyspark.mllib.evaluation import MulticlassMetrics\n",
    "\n",
    "prediction_and_labels = preds_hard_label.select(\"predicted_hard_label\", \"label\") \\\n",
    "                            .withColumn(\"predicted_hard_label\", col(\"predicted_hard_label\").cast(DoubleType())) \\\n",
    "                            .withColumn(\"label\", col(\"label\").cast(DoubleType())) \\\n",
    "                            .rdd\n",
    "metrics = MulticlassMetrics(prediction_and_labels)"
   ]
  },
  {
   "cell_type": "code",
   "execution_count": 24,
   "metadata": {},
   "outputs": [
    {
     "name": "stdout",
     "output_type": "stream",
     "text": [
      "Class 0.0 precision = 0.8129496402877698\n",
      "Class 0.0 recall = 0.6384180790960452\n",
      "Class 0.0 F1 Measure = 0.7151898734177216\n",
      "Class 2.0 precision = 0.5031847133757962\n",
      "Class 2.0 recall = 0.5683453237410072\n",
      "Class 2.0 F1 Measure = 0.5337837837837838\n",
      "Class 4.0 precision = 0.6584158415841584\n",
      "Class 4.0 recall = 0.7307692307692307\n",
      "Class 4.0 F1 Measure = 0.6927083333333334\n"
     ]
    }
   ],
   "source": [
    "# Statistics by class\n",
    "labels = [0.0, 2.0, 4.0]\n",
    "for label in sorted(labels):\n",
    "    print(\"Class %s precision = %s\" % (label, metrics.precision(label)))\n",
    "    print(\"Class %s recall = %s\" % (label, metrics.recall(label)))\n",
    "    print(\"Class %s F1 Measure = %s\" % (label, metrics.fMeasure(label, beta=1.0)))"
   ]
  },
  {
   "cell_type": "code",
   "execution_count": 25,
   "metadata": {},
   "outputs": [
    {
     "name": "stdout",
     "output_type": "stream",
     "text": [
      "Weighted recall = 0.6526104417670682\n",
      "Weighted precision = 0.6700129410813007\n",
      "Weighted F(1) Score = 0.656340301621585\n",
      "Weighted F(0.5) Score = 0.6631909406204497\n",
      "Weighted false positive rate = 0.16923195186809004\n"
     ]
    }
   ],
   "source": [
    "# Weighted stats\n",
    "print(\"Weighted recall = %s\" % metrics.weightedRecall)\n",
    "print(\"Weighted precision = %s\" % metrics.weightedPrecision)\n",
    "print(\"Weighted F(1) Score = %s\" % metrics.weightedFMeasure())\n",
    "print(\"Weighted F(0.5) Score = %s\" % metrics.weightedFMeasure(beta=0.5))\n",
    "print(\"Weighted false positive rate = %s\" % metrics.weightedFalsePositiveRate)"
   ]
  },
  {
   "cell_type": "code",
   "execution_count": 36,
   "metadata": {},
   "outputs": [
    {
     "name": "stdout",
     "output_type": "stream",
     "text": [
      "Confusion matrix:\n",
      " [[113.0, 42.0, 22.0], [13.0, 79.0, 47.0], [13.0, 36.0, 133.0]]\n"
     ]
    },
    {
     "name": "stderr",
     "output_type": "stream",
     "text": [
      "<ipython-input-36-fe884b6bc445>:13: UserWarning: FixedFormatter should only be used together with FixedLocator\n",
      "  ax.set_xticklabels([''] + labels)\n",
      "<ipython-input-36-fe884b6bc445>:14: UserWarning: FixedFormatter should only be used together with FixedLocator\n",
      "  ax.set_yticklabels([''] + labels)\n"
     ]
    },
    {
     "data": {
      "image/png": "[encoded data removed]",
      "text/plain": [
       "<Figure size 432x288 with 2 Axes>"
      ]
     },
     "metadata": {
      "needs_background": "light"
     },
     "output_type": "display_data"
    }
   ],
   "source": [
    "from matplotlib import pyplot as plt\n",
    "\n",
    "cm = metrics.confusionMatrix().toArray().tolist()\n",
    "print('Confusion matrix:\\n', cm)\n",
    "\n",
    "labels = ['0', '2', '4']\n",
    "fig = plt.figure()\n",
    "ax = fig.add_subplot(111)\n",
    "cax = ax.matshow(cm, cmap=plt.cm.Blues)\n",
    "fig.colorbar(cax)\n",
    "ax.set_xticklabels([''] + labels)\n",
    "ax.set_yticklabels([''] + labels)\n",
    "plt.xlabel('Predicted')\n",
    "plt.ylabel('Expected')\n",
    "plt.show()"
   ]
  },
  {
   "cell_type": "markdown",
   "metadata": {},
   "source": [
    "# Testing Naive Bayes Model (Without Neutral)"
   ]
  },
  {
   "cell_type": "code",
   "execution_count": 26,
   "metadata": {},
   "outputs": [],
   "source": [
    "def map_prediction(pred):\n",
    "    if pred == 0.0:\n",
    "        return 0.0\n",
    "    elif pred == 1.0:\n",
    "        return 4.0\n",
    "\n",
    "map_prediction_udf = udf(map_prediction, DoubleType())"
   ]
  },
  {
   "cell_type": "code",
   "execution_count": 29,
   "metadata": {},
   "outputs": [
    {
     "name": "stdout",
     "output_type": "stream",
     "text": [
      "+-----+-----------------+\n",
      "|label|prediction_mapped|\n",
      "+-----+-----------------+\n",
      "|    4|              4.0|\n",
      "|    4|              4.0|\n",
      "|    4|              4.0|\n",
      "|    4|              4.0|\n",
      "|    4|              4.0|\n",
      "|    4|              4.0|\n",
      "|    0|              0.0|\n",
      "|    4|              4.0|\n",
      "|    4|              4.0|\n",
      "|    4|              4.0|\n",
      "|    0|              0.0|\n",
      "|    4|              4.0|\n",
      "|    4|              4.0|\n",
      "|    0|              0.0|\n",
      "|    4|              4.0|\n",
      "|    0|              4.0|\n",
      "|    4|              4.0|\n",
      "|    0|              4.0|\n",
      "|    4|              4.0|\n",
      "|    4|              4.0|\n",
      "+-----+-----------------+\n",
      "only showing top 20 rows\n",
      "\n"
     ]
    }
   ],
   "source": [
    "preds_no_neutral = preds.withColumn(\"prediction_mapped\", map_prediction_udf(\"prediction\")).select(\"label\", \"prediction_mapped\")\n",
    "preds_no_neutral = preds_no_neutral.filter(preds_no_neutral.label != 2)"
   ]
  },
  {
   "cell_type": "code",
   "execution_count": 30,
   "metadata": {},
   "outputs": [],
   "source": [
    "prediction_and_labels2 = preds_no_neutral.select(\"prediction_mapped\", \"label\") \\\n",
    "                            .withColumn(\"prediction_mapped\", col(\"prediction_mapped\").cast(DoubleType())) \\\n",
    "                            .withColumn(\"label\", col(\"label\").cast(DoubleType())) \\\n",
    "                            .rdd\n",
    "metrics2 = MulticlassMetrics(prediction_and_labels2)"
   ]
  },
  {
   "cell_type": "code",
   "execution_count": 33,
   "metadata": {},
   "outputs": [
    {
     "name": "stdout",
     "output_type": "stream",
     "text": [
      "Class 0.0 precision = 0.8466257668711656\n",
      "Class 0.0 recall = 0.7796610169491526\n",
      "Class 0.0 F1 Measure = 0.8117647058823529\n",
      "Class 4.0 precision = 0.8010204081632653\n",
      "Class 4.0 recall = 0.8626373626373627\n",
      "Class 4.0 F1 Measure = 0.8306878306878307\n"
     ]
    }
   ],
   "source": [
    "# Statistics by class\n",
    "labels2 = [0.0, 4.0]\n",
    "for label in sorted(labels2):\n",
    "    print(\"Class %s precision = %s\" % (label, metrics2.precision(label)))\n",
    "    print(\"Class %s recall = %s\" % (label, metrics2.recall(label)))\n",
    "    print(\"Class %s F1 Measure = %s\" % (label, metrics2.fMeasure(label, beta=1.0)))"
   ]
  },
  {
   "cell_type": "code",
   "execution_count": 31,
   "metadata": {},
   "outputs": [
    {
     "name": "stdout",
     "output_type": "stream",
     "text": [
      "Weighted recall = 0.8217270194986073\n",
      "Weighted precision = 0.82350550145379\n",
      "Weighted F(1) Score = 0.8213580449202276\n",
      "Weighted F(0.5) Score = 0.8223415752466294\n",
      "Weighted false positive rate = 0.17942863991209207\n"
     ]
    }
   ],
   "source": [
    "# Weighted stats\n",
    "print(\"Weighted recall = %s\" % metrics2.weightedRecall)\n",
    "print(\"Weighted precision = %s\" % metrics2.weightedPrecision)\n",
    "print(\"Weighted F(1) Score = %s\" % metrics2.weightedFMeasure())\n",
    "print(\"Weighted F(0.5) Score = %s\" % metrics2.weightedFMeasure(beta=0.5))\n",
    "print(\"Weighted false positive rate = %s\" % metrics2.weightedFalsePositiveRate)"
   ]
  },
  {
   "cell_type": "code",
   "execution_count": 38,
   "metadata": {},
   "outputs": [
    {
     "name": "stdout",
     "output_type": "stream",
     "text": [
      "Confusion matrix:\n",
      " [[138.0, 39.0], [25.0, 157.0]]\n"
     ]
    },
    {
     "name": "stderr",
     "output_type": "stream",
     "text": [
      "<ipython-input-38-6e46b0e865b9>:9: UserWarning: FixedFormatter should only be used together with FixedLocator\n",
      "  ax.set_xticklabels([''] + labels)\n",
      "<ipython-input-38-6e46b0e865b9>:10: UserWarning: FixedFormatter should only be used together with FixedLocator\n",
      "  ax.set_yticklabels([''] + labels)\n"
     ]
    },
    {
     "data": {
      "image/png": "[encoded data removed]",
      "text/plain": [
       "<Figure size 432x288 with 2 Axes>"
      ]
     },
     "metadata": {
      "needs_background": "light"
     },
     "output_type": "display_data"
    }
   ],
   "source": [
    "cm2 = metrics2.confusionMatrix().toArray().tolist()\n",
    "print('Confusion matrix:\\n', cm2)\n",
    "\n",
    "labels = ['0', '4']\n",
    "fig = plt.figure()\n",
    "ax = fig.add_subplot(111)\n",
    "cax = ax.matshow(cm2, cmap=plt.cm.Blues)\n",
    "fig.colorbar(cax)\n",
    "ax.set_xticklabels([''] + labels)\n",
    "ax.set_yticklabels([''] + labels)\n",
    "plt.xlabel('Predicted')\n",
    "plt.ylabel('Expected')\n",
    "plt.show()"
   ]
  },
  {
   "cell_type": "markdown",
   "metadata": {},
   "source": [
    "# Labeling COVID Dataset"
   ]
  },
  {
   "cell_type": "code",
   "execution_count": 119,
   "metadata": {},
   "outputs": [],
   "source": [
    "COVID_LABELED_PATH = '../data/processed/full-tweets-labeled'"
   ]
  },
  {
   "cell_type": "code",
   "execution_count": 120,
   "metadata": {},
   "outputs": [],
   "source": [
    "covid_preds = model.transform(df_covid)"
   ]
  },
  {
   "cell_type": "code",
   "execution_count": 121,
   "metadata": {},
   "outputs": [
    {
     "name": "stdout",
     "output_type": "stream",
     "text": [
      "+-------------------+--------------------+-----+-----+--------------------+--------------------+--------------------+--------------------+--------------------+----------+\n",
      "|                 id|                text|label| type|      tokenized_text|       filtered_text|            features|       rawPrediction|         probability|prediction|\n",
      "+-------------------+--------------------+-----+-----+--------------------+--------------------+--------------------+--------------------+--------------------+----------+\n",
      "|               null|     fully_processed| null|covid|   [fully_processed]|   [fully_processed]|       (10000,[],[])|[-0.6927803369175...|[0.50018345546886...|       0.0|\n",
      "|1246892082888945666|local modi sunday...| null|covid|[local, modi, sun...|[local, modi, sun...|(10000,[43,166,29...|[-150.28050776985...|[0.65409787288106...|       0.0|\n",
      "|1246892725158449152|corona vid fight ...| null|covid|[corona, vid, fig...|[corona, vid, fig...|(10000,[1,43,58,6...|[-157.36454688188...|[0.02343751892074...|       1.0|\n",
      "|1246894604307312640|vid digit paint j...| null|covid|[vid, digit, pain...|[vid, digit, pain...|(10000,[1,38,43,3...|[-166.29017867697...|[0.01484468666539...|       1.0|\n",
      "|1246894744174759950|dad long corona g...| null|covid|[dad, long, coron...|[dad, long, coron...|(10000,[5,8,34,43...|[-125.76163634631...|[0.72395167533730...|       0.0|\n",
      "|1246895626236964873|corona hard shelt...| null|covid|[corona, hard, sh...|[corona, hard, sh...|(10000,[43,98,127...|[-187.37034997055...|[0.85998493095724...|       0.0|\n",
      "|1246895919536246785|bore want fast pa...| null|covid|[bore, want, fast...|[bore, want, fast...|(10000,[6,13,43,1...|[-162.91702030508...|[0.82550036518504...|       0.0|\n",
      "|1246897071942250497|drink beer jeep m...| null|covid|[drink, beer, jee...|[drink, beer, jee...|(10000,[43,45,211...|[-109.72570050981...|[0.14566722831460...|       1.0|\n",
      "|1246897241505357825|pic day corona fi...| null|covid|[pic, day, corona...|[pic, day, corona...|(10000,[0,1,4,33,...|[-200.73759425669...|[0.01693407154225...|       1.0|\n",
      "|1246897416785321998|        corona earth| null|covid|     [corona, earth]|     [corona, earth]|(10000,[43,1088],...|[-21.063086425352...|[0.26450661957627...|       1.0|\n",
      "|1246897425136209923|day corona diary ...| null|covid|[day, corona, dia...|[day, corona, dia...|(10000,[0,43,56,5...|[-160.26571579609...|[0.42624480387818...|       1.0|\n",
      "|1246898088440193034|mek stamp bad min...| null|covid|[mek, stamp, bad,...|[mek, stamp, bad,...|(10000,[43,55,306...|[-98.154307383830...|[0.87007483218935...|       0.0|\n",
      "|1246898124511014912|decker local sush...| null|covid|[decker, local, s...|[decker, local, s...|(10000,[7,9,28,43...|[-241.13421840613...|[0.07188418562299...|       1.0|\n",
      "|1246898487071047683|seen meredith new...| null|covid|[seen, meredith, ...|[seen, meredith, ...|(10000,[10,43,53,...|[-81.612263142411...|[0.54146854585188...|       0.0|\n",
      "|1246898498647318531|corona coronaviru...| null|covid|[corona, coronavi...|[corona, coronavi...|(10000,[9,26,28,4...|[-65.596232035385...|[0.23181599449329...|       1.0|\n",
      "|1246898647666774018|win kate connect ...| null|covid|[win, kate, conne...|[win, kate, conne...|(10000,[6,9,16,43...|[-201.76781749314...|[0.20967576895087...|       1.0|\n",
      "|1246899966708027392|parti memoir pre ...| null|covid|[parti, memoir, p...|[parti, memoir, p...|(10000,[8,24,43,5...|[-107.49786205501...|[0.45765089933111...|       1.0|\n",
      "|1246900078243012609|life corona jug p...| null|covid|[life, corona, ju...|[life, corona, ju...|(10000,[38,43,49,...|[-236.11090829184...|[0.01478251132992...|       1.0|\n",
      "|1246900278088986624|loudly cri face l...| null|covid|[loudly, cri, fac...|[loudly, cri, fac...|(10000,[10,16,43,...|[-353.52109388190...|[0.93561824147363...|       0.0|\n",
      "|1246901306083721216|midnight post cor...| null|covid|[midnight, post, ...|[midnight, post, ...|(10000,[43,48,81,...|[-264.12198328701...|[5.83994569343313...|       1.0|\n",
      "+-------------------+--------------------+-----+-----+--------------------+--------------------+--------------------+--------------------+--------------------+----------+\n",
      "only showing top 20 rows\n",
      "\n"
     ]
    }
   ],
   "source": [
    "covid_preds.show()"
   ]
  },
  {
   "cell_type": "code",
   "execution_count": 122,
   "metadata": {},
   "outputs": [],
   "source": [
    "from pyspark.sql.functions import udf\n",
    "\n",
    "weighted_prob = udf(lambda v: float(v[1]), DoubleType())\n",
    "covid_preds_final = covid_preds.withColumn(\"weighted_label\", weighted_prob(\"probability\")).select(\"id\", \"prediction\", \"weighted_label\")"
   ]
  },
  {
   "cell_type": "code",
   "execution_count": 123,
   "metadata": {},
   "outputs": [],
   "source": [
    "covid_preds_final.repartition(1).write.csv(COVID_LABELED_PATH)"
   ]
  },
  {
   "cell_type": "code",
   "execution_count": null,
   "metadata": {},
   "outputs": [],
   "source": []
  }
 ],
 "metadata": {
  "kernelspec": {
   "display_name": "Python 3",
   "language": "python",
   "name": "python3"
  },
  "language_info": {
   "codemirror_mode": {
    "name": "ipython",
    "version": 3
   },
   "file_extension": ".py",
   "mimetype": "text/x-python",
   "name": "python",
   "nbconvert_exporter": "python",
   "pygments_lexer": "ipython3",
   "version": "3.8.6"
  }
 },
 "nbformat": 4,
 "nbformat_minor": 4
}
