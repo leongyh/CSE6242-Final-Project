{
 "cells": [
  {
   "cell_type": "markdown",
   "metadata": {},
   "source": [
    "## Import Libraries"
   ]
  },
  {
   "cell_type": "code",
   "execution_count": 1,
   "metadata": {},
   "outputs": [
    {
     "name": "stdout",
     "output_type": "stream",
     "text": [
      "Downloading emoji data ...\n",
      "... OK (Got response in 0.24 seconds)\n",
      "Writing emoji data to /home/jovyan/.demoji/codes.json ...\n",
      "... OK\n"
     ]
    },
    {
     "name": "stderr",
     "output_type": "stream",
     "text": [
      "[nltk_data] Downloading package wordnet to /home/jovyan/nltk_data...\n",
      "[nltk_data]   Package wordnet is already up-to-date!\n",
      "[nltk_data] Downloading package punkt to /home/jovyan/nltk_data...\n",
      "[nltk_data]   Package punkt is already up-to-date!\n"
     ]
    },
    {
     "data": {
      "text/plain": [
       "True"
      ]
     },
     "execution_count": 1,
     "metadata": {},
     "output_type": "execute_result"
    }
   ],
   "source": [
    "import json\n",
    "import re\n",
    "import pandas as pd\n",
    "import os\n",
    "import demoji\n",
    "demoji.download_codes()\n",
    "\n",
    "from wordsegment import load, segment\n",
    "from autocorrect import Speller\n",
    "import gensim\n",
    "from gensim.utils import simple_preprocess\n",
    "from gensim.parsing.preprocessing import STOPWORDS\n",
    "from nltk.stem import PorterStemmer \n",
    "from nltk.tokenize import word_tokenize \n",
    "\n",
    "\n",
    "import nltk\n",
    "nltk.download('wordnet')\n",
    "nltk.download('punkt')"
   ]
  },
  {
   "cell_type": "markdown",
   "metadata": {},
   "source": [
    "## Contractions List\n",
    "\n",
    "This list of contractions was sourced from this site:https://gist.github.com/nealrs/96342d8231b75cf4bb82\n",
    "\n",
    "Feel free to add to this list as you see fit"
   ]
  },
  {
   "cell_type": "code",
   "execution_count": 2,
   "metadata": {},
   "outputs": [],
   "source": [
    "cList = {\n",
    "  \"ain't\": \"am not\",\n",
    "  \"aren't\": \"are not\",\n",
    "  \"can't\": \"cannot\",\n",
    "  \"can't've\": \"cannot have\",\n",
    "  \"'cause\": \"because\",\n",
    "  \"could've\": \"could have\",\n",
    "  \"couldn't\": \"could not\",\n",
    "  \"couldn't've\": \"could not have\",\n",
    "  \"didn't\": \"did not\",\n",
    "  \"doesn't\": \"does not\",\n",
    "  \"don't\": \"do not\",\n",
    "  \"hadn't\": \"had not\",\n",
    "  \"hadn't've\": \"had not have\",\n",
    "  \"hasn't\": \"has not\",\n",
    "  \"haven't\": \"have not\",\n",
    "  \"he'd\": \"he would\",\n",
    "  \"he'd've\": \"he would have\",\n",
    "  \"he'll\": \"he will\",\n",
    "  \"he'll've\": \"he will have\",\n",
    "  \"he's\": \"he is\",\n",
    "  \"how'd\": \"how did\",\n",
    "  \"how'd'y\": \"how do you\",\n",
    "  \"how'll\": \"how will\",\n",
    "  \"how's\": \"how is\",\n",
    "  \"I'd\": \"I would\",\n",
    "  \"I'd've\": \"I would have\",\n",
    "  \"I'll\": \"I will\",\n",
    "  \"I'll've\": \"I will have\",\n",
    "  \"I'm\": \"I am\",\n",
    "  \"I've\": \"I have\",\n",
    "  \"isn't\": \"is not\",\n",
    "  \"it'd\": \"it had\",\n",
    "  \"it'd've\": \"it would have\",\n",
    "  \"it'll\": \"it will\",\n",
    "  \"it'll've\": \"it will have\",\n",
    "  \"it's\": \"it is\",\n",
    "  \"let's\": \"let us\",\n",
    "  \"ma'am\": \"madam\",\n",
    "  \"mayn't\": \"may not\",\n",
    "  \"might've\": \"might have\",\n",
    "  \"mightn't\": \"might not\",\n",
    "  \"mightn't've\": \"might not have\",\n",
    "  \"must've\": \"must have\",\n",
    "  \"mustn't\": \"must not\",\n",
    "  \"mustn't've\": \"must not have\",\n",
    "  \"needn't\": \"need not\",\n",
    "  \"needn't've\": \"need not have\",\n",
    "  \"o'clock\": \"of the clock\",\n",
    "  \"oughtn't\": \"ought not\",\n",
    "  \"oughtn't've\": \"ought not have\",\n",
    "  \"shan't\": \"shall not\",\n",
    "  \"sha'n't\": \"shall not\",\n",
    "  \"shan't've\": \"shall not have\",\n",
    "  \"she'd\": \"she would\",\n",
    "  \"she'd've\": \"she would have\",\n",
    "  \"she'll\": \"she will\",\n",
    "  \"she'll've\": \"she will have\",\n",
    "  \"she's\": \"she is\",\n",
    "  \"should've\": \"should have\",\n",
    "  \"shouldn't\": \"should not\",\n",
    "  \"shouldn't've\": \"should not have\",\n",
    "  \"so've\": \"so have\",\n",
    "  \"so's\": \"so is\",\n",
    "  \"that'd\": \"that would\",\n",
    "  \"that'd've\": \"that would have\",\n",
    "  \"that's\": \"that is\",\n",
    "  \"there'd\": \"there had\",\n",
    "  \"there'd've\": \"there would have\",\n",
    "  \"there's\": \"there is\",\n",
    "  \"they'd\": \"they would\",\n",
    "  \"they'd've\": \"they would have\",\n",
    "  \"they'll\": \"they will\",\n",
    "  \"they'll've\": \"they will have\",\n",
    "  \"they're\": \"they are\",\n",
    "  \"they've\": \"they have\",\n",
    "  \"to've\": \"to have\",\n",
    "  \"wasn't\": \"was not\",\n",
    "  \"we'd\": \"we had\",\n",
    "  \"we'd've\": \"we would have\",\n",
    "  \"we'll\": \"we will\",\n",
    "  \"we'll've\": \"we will have\",\n",
    "  \"we're\": \"we are\",\n",
    "  \"we've\": \"we have\",\n",
    "  \"weren't\": \"were not\",\n",
    "  \"what'll\": \"what will\",\n",
    "  \"what'll've\": \"what will have\",\n",
    "  \"what're\": \"what are\",\n",
    "  \"what's\": \"what is\",\n",
    "  \"what've\": \"what have\",\n",
    "  \"when's\": \"when is\",\n",
    "  \"when've\": \"when have\",\n",
    "  \"where'd\": \"where did\",\n",
    "  \"where's\": \"where is\",\n",
    "  \"where've\": \"where have\",\n",
    "  \"who'll\": \"who will\",\n",
    "  \"who'll've\": \"who will have\",\n",
    "  \"who's\": \"who is\",\n",
    "  \"who've\": \"who have\",\n",
    "  \"why's\": \"why is\",\n",
    "  \"why've\": \"why have\",\n",
    "  \"will've\": \"will have\",\n",
    "  \"won't\": \"will not\",\n",
    "  \"won't've\": \"will not have\",\n",
    "  \"would've\": \"would have\",\n",
    "  \"wouldn't\": \"would not\",\n",
    "  \"wouldn't've\": \"would not have\",\n",
    "  \"y'all\": \"you all\",\n",
    "  \"y'alls\": \"you alls\",\n",
    "  \"y'all'd\": \"you all would\",\n",
    "  \"y'all'd've\": \"you all would have\",\n",
    "  \"y'all're\": \"you all are\",\n",
    "  \"y'all've\": \"you all have\",\n",
    "  \"you'd\": \"you had\",\n",
    "  \"you'd've\": \"you would have\",\n",
    "  \"you'll\": \"you you will\",\n",
    "  \"you'll've\": \"you you will have\",\n",
    "  \"you're\": \"you are\",\n",
    "  \"you've\": \"you have\"\n",
    "}"
   ]
  },
  {
   "cell_type": "markdown",
   "metadata": {},
   "source": [
    "## Paths\n",
    "\n",
    "Note that the DATA_PROCESSED_TWEETS_PATH was created from pulling the tweets. Makes a \"refined\" folder used to store the output in the directory."
   ]
  },
  {
   "cell_type": "code",
   "execution_count": 3,
   "metadata": {},
   "outputs": [],
   "source": [
    "DATA_PROCESSED_TWEETS_PATH = '../data/processed/full-tweets'"
   ]
  },
  {
   "cell_type": "markdown",
   "metadata": {},
   "source": [
    "## Functions\n",
    "\n",
    "Here are all the functions used for preprocessing. All functions take in the entire tweet as an input with remove_shortwords taking a second parameter. Quick description for each:\n",
    "\n",
    "<b>make_lowercase</b> : Makes all the words lowercase for consistency\n",
    "\n",
    "<b>remove_url</b> : Removes URLs found in the tweet\n",
    "\n",
    "<b>remove_html</b>: Removed some common HTML statements and replaces them. Feel free to add more to this as you encounter more\n",
    "\n",
    "<b>remove_newline</b> : Removes \\n from tweets\n",
    "\n",
    "<b>replace_emojis</b> : Will replace an emoji with a description of what the emoji is\n",
    "\n",
    "<b>remove_emojis</b> : Entirely removes emojis from a tweet. Use either this or replace_emojis, not both\n",
    "\n",
    "<b>remove_mentions</b> : Removes @ followed by words, usually will be another account which is not needed for sentiment\n",
    "\n",
    "<b>remove_hashtags_completely</b> : Removes all hashtages and replaces them with a space\n",
    "\n",
    "<b>remove_hashtag_symbol</b> : Replaces \"#\" with a space. Use only this or remove_hashtags_completely\n",
    "\n",
    "<b>remove_noncharacters</b> : Keeps only a-z characters as well as spaces, _ , and apostrophes\n",
    "\n",
    "<b>remove_contractions</b> : Separates out contractions based on the dictionary above\n",
    "\n",
    "<b>split_words</b> : If it is obvious that there are multiple words strung together with no spaces, this will split them apart. Must use load() before running this\n",
    "\n",
    "<b>spelling_correction</b> : Does a quick spell-check on words.  Must set spell = Speller()  before running this\n",
    "\n",
    "<b>remove_stopwards</b> : Removes short words like \"the\" that aren't useful for sentiment analysis. See https://www.nltk.org/book/ch02.html for what counts as a stopword.\n",
    "\n",
    "<b>remove_shortwords</b> : Removes words that are shorter than the length specified. \n",
    "\n",
    "<b>make_stem</b>: Typically removed \"ed\", \"s\", \"es\" from ends of words to find the root of a word. \"Created\" should become \"Create\". Could try running spellcheck after this step to correct words. Must set ps = PorterStemmer()  before running this"
   ]
  },
  {
   "cell_type": "code",
   "execution_count": 4,
   "metadata": {},
   "outputs": [],
   "source": [
    "def make_lowercase(tweet):\n",
    "    return tweet.lower()\n",
    "\n",
    "def remove_url(tweet):\n",
    "    return re.sub(r'http\\S+', '', tweet)\n",
    "\n",
    "def remove_html(tweet):\n",
    "    return tweet.replace('&amp;', 'and').replace('&lt;', 'less than').replace('&gt;', 'greater than')\n",
    "\n",
    "def remove_newline(tweet):\n",
    "    return tweet.replace('\\n', ' ')\n",
    "\n",
    "def replace_emojis(tweet):\n",
    "    return demoji.replace_with_desc(tweet, sep = ' ')\n",
    "\n",
    "def remove_emojis(tweet):\n",
    "    return demoji.replace(tweet, '')\n",
    "\n",
    "def remove_mentions(tweet):\n",
    "    return re.sub(r\"@(\\w+)\", ' ', tweet, flags=re.MULTILINE)\n",
    "\n",
    "def remove_hashtags_completely(tweet):\n",
    "    return re.sub(r\"#(\\w+)\", ' ', tweet, flags=re.MULTILINE)\n",
    "\n",
    "def remove_hashtag_symbol(tweet):\n",
    "    return tweet.replace('#', ' ')\n",
    "\n",
    "def remove_noncharacters(tweet):\n",
    "    return re.sub(r\"[^a-zA-Z_ ']\", \"\", tweet)\n",
    "\n",
    "def remove_contractions(tweet):\n",
    "    tweet = tweet.replace('’',\"'\")\n",
    "    return ' '.join(cList[word] if word in cList else word for word in tweet.split())\n",
    "\n",
    "#call load() before running this\n",
    "def split_words(tweet):\n",
    "    return ' '.join(segment(tweet))\n",
    "\n",
    "#call spell = Speller() before runnning this\n",
    "def spelling_correction(tweet):\n",
    "    return ' '.join([spell(i) for i in tweet.split()])\n",
    "\n",
    "def remove_stopwords(tweet):\n",
    "    result2 = []\n",
    "    for token in gensim.utils.simple_preprocess(tweet):\n",
    "        if token not in gensim.parsing.preprocessing.STOPWORDS:\n",
    "            result2.append(token)\n",
    "    return ' '.join(result2)\n",
    "\n",
    "#recommend 2 or 3 for length\n",
    "def remove_shortwords(tweet, length):\n",
    "    result2 = []\n",
    "    for token in gensim.utils.simple_preprocess(tweet):\n",
    "        if len(token) > length:\n",
    "            result2.append(token)\n",
    "    return ' '.join(result2)\n",
    "\n",
    "#Call ps = PorterStemmer()  before running this\n",
    "def make_stem(tweet):\n",
    "    result2 = []\n",
    "    for token in gensim.utils.simple_preprocess(tweet):\n",
    "        result2.append(ps.stem(token))\n",
    "    return ' '.join(result2)"
   ]
  },
  {
   "cell_type": "code",
   "execution_count": 5,
   "metadata": {},
   "outputs": [],
   "source": [
    "load()\n",
    "spell = Speller()\n",
    "ps = PorterStemmer()"
   ]
  },
  {
   "cell_type": "markdown",
   "metadata": {},
   "source": [
    "## Example"
   ]
  },
  {
   "cell_type": "code",
   "execution_count": null,
   "metadata": {},
   "outputs": [],
   "source": [
    "# Just loading in Tweets 0 for now\n",
    "\n",
    "with open(DATA_PROCESSED_TWEETS_PATH + \"/tweets-0.jsonl\" , 'r') as json_file:\n",
    "    json_list = list(json_file)\n",
    "\n",
    "result = []    \n",
    "\n",
    "for json_str in json_list:\n",
    "    result.append(json.loads(json_str))\n",
    "    \n",
    "tweet_dict = {}\n",
    "for i in result:\n",
    "    tweet_dict[i[\"id\"]] = i[\"full_text\"]\n",
    "    \n",
    "tweet_final = {}\n",
    "\n",
    "for k, v in tweet_dict.items():\n",
    "    v = make_lowercase(v)\n",
    "    v = remove_url(v)\n",
    "    v = remove_html(v)\n",
    "    v = remove_newline(v)\n",
    "    v = replace_emojis(v)\n",
    "    v = remove_mentions(v)\n",
    "    v = remove_hashtag_symbol(v)\n",
    "    v = remove_noncharacters(v)\n",
    "    v = remove_contractions(v)\n",
    "    v = split_words(v)\n",
    "    v = remove_stopwords(v)\n",
    "    v = remove_shortwords(v, 2)\n",
    "    v = make_stem(v)\n",
    "    v = spelling_correction(v)\n",
    "    tweet_final[k] = v"
   ]
  },
  {
   "cell_type": "code",
   "execution_count": null,
   "metadata": {},
   "outputs": [],
   "source": [
    "tweet_dict"
   ]
  },
  {
   "cell_type": "code",
   "execution_count": null,
   "metadata": {},
   "outputs": [],
   "source": [
    "tweet_final"
   ]
  },
  {
   "cell_type": "markdown",
   "metadata": {},
   "source": [
    "# Process With PySpark\n",
    "Process the whole dataset with PySpark"
   ]
  },
  {
   "cell_type": "code",
   "execution_count": 6,
   "metadata": {},
   "outputs": [],
   "source": [
    "import os\n",
    "\n",
    "from pyspark.sql import SparkSession\n",
    "from pyspark.sql.types import StructType, StructField, IntegerType, StringType, DateType, LongType"
   ]
  },
  {
   "cell_type": "code",
   "execution_count": 7,
   "metadata": {},
   "outputs": [],
   "source": [
    "STS_PATH          = '../data/sts'\n",
    "STS_PROCESED_PATH = '../data/processed/sts'\n",
    "\n",
    "STS_PROCESED_TRAIN_FILENAME = 'sts_train'\n",
    "STS_PROCESED_TEST_FILENAME = 'sts_test'\n",
    "\n",
    "COVID_PROCESSED_PATH = '../data/proccesed/full-tweets-sanitized'\n",
    "\n",
    "COVID_PROCESSED_FILENAME = 'tweets-santized'"
   ]
  },
  {
   "cell_type": "code",
   "execution_count": 8,
   "metadata": {},
   "outputs": [],
   "source": [
    "spark = SparkSession.builder.master('local').appName('local').getOrCreate()"
   ]
  },
  {
   "cell_type": "markdown",
   "metadata": {},
   "source": [
    "## Load Data\n",
    "We load the STS corpus and COVID-19 Tweets dataset."
   ]
  },
  {
   "cell_type": "code",
   "execution_count": 9,
   "metadata": {},
   "outputs": [],
   "source": [
    "STS_TRAIN_FILENAME = 'training.1600000.processed.noemoticon.csv'\n",
    "STS_TRAIN_PATH     = STS_PATH + '/' + STS_TRAIN_FILENAME\n",
    "STS_TEST_FILENAME  = 'testdata.manual.2009.06.14.csv'\n",
    "STS_TEST_PATH      = STS_PATH + '/' + STS_TEST_FILENAME\n",
    "\n",
    "COVID_DATA_PATH = '../data/processed/full-tweets'"
   ]
  },
  {
   "cell_type": "code",
   "execution_count": 10,
   "metadata": {},
   "outputs": [],
   "source": [
    "sts_schema = StructType([\n",
    "    StructField('label', IntegerType(), True),\n",
    "    StructField('id', LongType(), True),\n",
    "    StructField('date', StringType(), True),\n",
    "    StructField('query', StringType(), True),\n",
    "    StructField('user', StringType(), True),\n",
    "    StructField('text', StringType(), True),\n",
    "])"
   ]
  },
  {
   "cell_type": "code",
   "execution_count": 11,
   "metadata": {},
   "outputs": [],
   "source": [
    "df_sts_train_raw = spark.read.csv(STS_TRAIN_PATH, header=False, schema=sts_schema)\n",
    "\n",
    "df_sts_test_raw = spark.read.csv(STS_TEST_PATH, header=False, schema=sts_schema)\n",
    "\n",
    "df_covid_raw = spark.read.json(COVID_DATA_PATH + '/' + '*.jsonl')"
   ]
  },
  {
   "cell_type": "code",
   "execution_count": 12,
   "metadata": {},
   "outputs": [],
   "source": [
    "df_sts_train_selected_cols = df_sts_train_raw.select('id', 'text', 'label')\n",
    "df_sts_test_selected_cols = df_sts_test_raw.select('id', 'text', 'label') \n",
    "df_covid_selected_cols = df_covid_raw.filter(df_covid_raw.lang == 'en').select('id', 'full_text')"
   ]
  },
  {
   "cell_type": "markdown",
   "metadata": {},
   "source": [
    "## Register Functions as UDF\n",
    "Register our functions above as PySpark UDFs"
   ]
  },
  {
   "cell_type": "code",
   "execution_count": 13,
   "metadata": {},
   "outputs": [],
   "source": [
    "from pyspark.sql.functions import udf"
   ]
  },
  {
   "cell_type": "code",
   "execution_count": 14,
   "metadata": {},
   "outputs": [],
   "source": [
    "def sanitize(v):\n",
    "    v = make_lowercase(v)\n",
    "    v = remove_url(v)\n",
    "    v = remove_html(v)\n",
    "    v = remove_newline(v)\n",
    "    v = replace_emojis(v)\n",
    "    v = remove_mentions(v)\n",
    "    v = remove_hashtag_symbol(v)\n",
    "    v = remove_noncharacters(v)\n",
    "    v = remove_contractions(v)\n",
    "#     v = split_words(v)\n",
    "#     v = remove_stopwords(v)\n",
    "#     v = remove_shortwords(v, 2)\n",
    "#     v = make_stem(v)\n",
    "#     v = spelling_correction(v)\n",
    "    \n",
    "    return v\n",
    "\n",
    "sanitize_udf = udf(sanitize, StringType())"
   ]
  },
  {
   "cell_type": "markdown",
   "metadata": {},
   "source": [
    "## Process Data\n",
    "Process data using UDF and save output to file."
   ]
  },
  {
   "cell_type": "code",
   "execution_count": 15,
   "metadata": {},
   "outputs": [],
   "source": [
    "df_sts_train_santized = df_sts_train_selected_cols.select('id', sanitize_udf('text').alias('cleaned_text'), 'label')"
   ]
  },
  {
   "cell_type": "code",
   "execution_count": 16,
   "metadata": {},
   "outputs": [],
   "source": [
    "df_sts_test_santized = df_sts_test_selected_cols.select('id', sanitize_udf('text').alias('cleaned_text'), 'label')"
   ]
  },
  {
   "cell_type": "code",
   "execution_count": 18,
   "metadata": {},
   "outputs": [],
   "source": [
    "df_sts_covid_santized = df_covid_selected_cols.select('id', sanitize_udf('full_text').alias('cleaned_text'))"
   ]
  },
  {
   "cell_type": "code",
   "execution_count": 20,
   "metadata": {},
   "outputs": [],
   "source": [
    "df_sts_train_santized.repartition(1).write.csv(STS_PROCESED_PATH + '/' + STS_PROCESED_TRAIN_FILENAME)"
   ]
  },
  {
   "cell_type": "code",
   "execution_count": 19,
   "metadata": {},
   "outputs": [],
   "source": [
    "df_sts_test_santized.repartition(1).write.csv(STS_PROCESED_PATH + '/' + STS_PROCESED_TEST_FILENAME)"
   ]
  },
  {
   "cell_type": "code",
   "execution_count": null,
   "metadata": {},
   "outputs": [],
   "source": [
    "df_sts_covid_santized.repartition(1).write.csv(COVID_PROCESSED_PATH + '/' + COVID_PROCESSED_FILENAME)"
   ]
  },
  {
   "cell_type": "code",
   "execution_count": null,
   "metadata": {},
   "outputs": [],
   "source": []
  }
 ],
 "metadata": {
  "kernelspec": {
   "display_name": "Python 3",
   "language": "python",
   "name": "python3"
  },
  "language_info": {
   "codemirror_mode": {
    "name": "ipython",
    "version": 3
   },
   "file_extension": ".py",
   "mimetype": "text/x-python",
   "name": "python",
   "nbconvert_exporter": "python",
   "pygments_lexer": "ipython3",
   "version": "3.8.6"
  }
 },
 "nbformat": 4,
 "nbformat_minor": 4
}
