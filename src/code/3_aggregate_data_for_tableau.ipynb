{
 "cells": [
  {
   "cell_type": "code",
   "execution_count": 35,
   "metadata": {},
   "outputs": [],
   "source": [
    "import pandas as pd\n",
    "import numpy as np\n",
    "from pyspark.sql import SparkSession\n",
    "from pyspark.sql.types import StructType, StructField, BooleanType, IntegerType, StringType, LongType, DoubleType\n",
    "import nltk\n",
    "import twarc\n",
    "from tableschema import Table"
   ]
  },
  {
   "cell_type": "code",
   "execution_count": 36,
   "metadata": {},
   "outputs": [],
   "source": [
    "spark = SparkSession.builder.master('local').appName('local').getOrCreate()"
   ]
  },
  {
   "cell_type": "code",
   "execution_count": 37,
   "metadata": {},
   "outputs": [],
   "source": [
    "LABELED_PATH = '../data/processed/full-tweets-labeled/'\n",
    "\n",
    "LDA_PATH = '../data/lda/'\n",
    "LDA_FILE = 'LDA_Output.csv'"
   ]
  },
  {
   "cell_type": "code",
   "execution_count": 38,
   "metadata": {},
   "outputs": [],
   "source": [
    "df_schema = StructType([\n",
    "    StructField('id', LongType(), True),\n",
    "    StructField('prediction', DoubleType(), True),\n",
    "    StructField('weighted_label', DoubleType(), True),\n",
    "])\n",
    "\n",
    "lda_schema = StructType([\n",
    "    StructField('id', LongType(), True),\n",
    "    StructField('topic_index', StringType(), True),\n",
    "    StructField('topic_label', StringType(), True),\n",
    "])\n",
    "\n",
    "tableau_schema = StructType([\n",
    "    StructField('id', LongType(), True),\n",
    "    StructField('date', StringType(), True),\n",
    "    StructField('label', IntegerType(), True),\n",
    "   \n",
    "    StructField('score_naive', DoubleType(), True),\n",
    "    StructField('score_evo', DoubleType(), True),\n",
    "    \n",
    "    StructField('topic', StringType(), True),\n",
    "    StructField('topic_lda', StringType(), True),\n",
    "    \n",
    "    StructField(\"latitude\", DoubleType(), True),\n",
    "    StructField(\"longitude\", DoubleType(), True),\n",
    "    \n",
    "    StructField(\"isUS\", BooleanType(), True),\n",
    "    StructField(\"state\", StringType(), True),\n",
    "])"
   ]
  },
  {
   "cell_type": "code",
   "execution_count": 40,
   "metadata": {},
   "outputs": [
    {
     "name": "stdout",
     "output_type": "stream",
     "text": [
      "root\n",
      " |-- id: long (nullable = true)\n",
      " |-- prediction: double (nullable = true)\n",
      " |-- weighted_label: double (nullable = true)\n",
      "\n",
      "root\n",
      " |-- id: long (nullable = true)\n",
      " |-- topic_index: string (nullable = true)\n",
      " |-- topic_label: string (nullable = true)\n",
      "\n",
      "+-------------------+----------+-------------------+-----------+---------------+\n",
      "|                 id|prediction|     weighted_label|topic_index|    topic_label|\n",
      "+-------------------+----------+-------------------+-----------+---------------+\n",
      "|1246892082888945666|       0.0|0.34590212711893237|    Topic 1|          Other|\n",
      "|1246892725158449152|       1.0| 0.9765624810792524|    Topic 1|          Other|\n",
      "|1246894604307312640|       1.0| 0.9851553133346029|    Topic 2|Social Distance|\n",
      "|1246894744174759950|       0.0| 0.2760483246626915|    Topic 3|          Masks|\n",
      "|1246895626236964873|       0.0|0.14001506904275743|    Topic 4|       Lockdown|\n",
      "|1246895919536246785|       0.0|0.17449963481495315|    Topic 1|          Other|\n",
      "|1246897071942250497|       1.0| 0.8543327716853997|    Topic 4|       Lockdown|\n",
      "|1246897241505357825|       1.0| 0.9830659284577496|    Topic 4|       Lockdown|\n",
      "|1246897416785321998|       1.0|  0.735493380423729|    Topic 2|Social Distance|\n",
      "|1246897425136209923|       1.0| 0.5737551961218135|    Topic 4|       Lockdown|\n",
      "|1246898088440193034|       0.0|0.12992516781064642|    Topic 2|Social Distance|\n",
      "|1246898124511014912|       1.0|  0.928115814377008|    Topic 4|       Lockdown|\n",
      "|1246898487071047683|       0.0|   0.45853145414812|    Topic 4|       Lockdown|\n",
      "|1246898498647318531|       1.0| 0.7681840055067002|    Topic 1|          Other|\n",
      "|1246898647666774018|       1.0| 0.7903242310491239|    Topic 3|          Masks|\n",
      "|1246899966708027392|       1.0| 0.5423491006688814|    Topic 2|Social Distance|\n",
      "|1246900078243012609|       1.0| 0.9852174886700732|    Topic 1|          Other|\n",
      "|1246900278088986624|       0.0| 0.0643817585263642|    Topic 4|       Lockdown|\n",
      "|1246901306083721216|       1.0| 0.9994160054306568|    Topic 1|          Other|\n",
      "|1246901908280877057|       1.0|  0.956067558096318|    Topic 2|Social Distance|\n",
      "+-------------------+----------+-------------------+-----------+---------------+\n",
      "only showing top 20 rows\n",
      "\n"
     ]
    }
   ],
   "source": [
    "df = spark.read.csv(LABELED_PATH + '/' + '*.csv', header=True, schema=df_schema)\n",
    "df_lda = spark.read.csv(LDA_PATH + '/' + '*.csv', header=False, schema=lda_schema)\n",
    "df.printSchema()\n",
    "df_lda.printSchema()\n",
    "\n",
    "df_tableau = df.join(lda, on=['id'])\n",
    "\n",
    "df_tableau.show()\n",
    "# df_tableau = df_tableau.join()\n",
    "\n",
    "#df_tableau = spark.createDataFrame(spark.sparkContext.emptyRDD(),tableau_schema)\n",
    "#df_tableau.printSchema()\n",
    "\n",
    "\n",
    "# Create table\n",
    "# table = Table(, schema='../data/schema.json')\n",
    "\n",
    "# Print schema descriptor\n",
    "# print(table.schema.descriptor)\n",
    "\n",
    "# Print cast rows in a dict form\n",
    "# for keyed_row in table.iter(keyed=True):\n",
    "#     print(keyed_row)"
   ]
  },
  {
   "cell_type": "code",
   "execution_count": null,
   "metadata": {},
   "outputs": [],
   "source": []
  },
  {
   "cell_type": "code",
   "execution_count": null,
   "metadata": {},
   "outputs": [],
   "source": []
  }
 ],
 "metadata": {
  "kernelspec": {
   "display_name": "Python 3",
   "language": "python",
   "name": "python3"
  },
  "language_info": {
   "codemirror_mode": {
    "name": "ipython",
    "version": 3
   },
   "file_extension": ".py",
   "mimetype": "text/x-python",
   "name": "python",
   "nbconvert_exporter": "python",
   "pygments_lexer": "ipython3",
   "version": "3.8.6"
  }
 },
 "nbformat": 4,
 "nbformat_minor": 4
}
