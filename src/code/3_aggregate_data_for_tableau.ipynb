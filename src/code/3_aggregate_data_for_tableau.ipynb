{
 "cells": [
  {
   "cell_type": "code",
   "execution_count": 78,
   "metadata": {},
   "outputs": [],
   "source": [
    "import pandas as pd\n",
    "import os\n",
    "import csv\n",
    "import json\n",
    "import re\n",
    "import numpy as np\n",
    "from pyspark.sql import SparkSession, SQLContext\n",
    "from pyspark.sql.types import StructType, StructField, BooleanType, IntegerType, StringType, LongType, DoubleType\n",
    "import nltk\n",
    "import twarc\n",
    "from tableschema import Table"
   ]
  },
  {
   "cell_type": "code",
   "execution_count": 44,
   "metadata": {},
   "outputs": [],
   "source": [
    "spark = SparkSession.builder.master('local').appName('local').getOrCreate()"
   ]
  },
  {
   "cell_type": "code",
   "execution_count": 71,
   "metadata": {},
   "outputs": [],
   "source": [
    "NUM_TWEETS_PER_FILE = 1000\n",
    "DATA_FULL_TWEETS_DIRECTORY   = 'full-tweets'\n",
    "DATA_FULL_TWEETS_FILE_PREFIX = 'tweets-'\n",
    "\n",
    "DATA_RAW_TWEETS_PATH       = '../data/raw'\n",
    "DATA_PROCESSED_TWEETS_PATH = '../data/processed'\n",
    "\n",
    "LABELED_PATH = '../data/processed/full-tweets-labeled/'\n",
    "\n",
    "LDA_PATH = '../data/lda/'\n",
    "LDA_FILE = 'LDA_Output.csv'"
   ]
  },
  {
   "cell_type": "code",
   "execution_count": 72,
   "metadata": {},
   "outputs": [],
   "source": [
    "df_schema = StructType([\n",
    "    StructField('id', LongType(), True),\n",
    "    StructField('prediction', DoubleType(), True),\n",
    "    StructField('weighted_label', DoubleType(), True),\n",
    "])\n",
    "\n",
    "lda_schema = StructType([\n",
    "    StructField('id', LongType(), True),\n",
    "    StructField('topic_index', StringType(), True),\n",
    "    StructField('topic_label', StringType(), True),\n",
    "])\n",
    "\n",
    "tableau_schema = StructType([\n",
    "    StructField('id', LongType(), True),\n",
    "    StructField('date', StringType(), True),\n",
    "    StructField('label', IntegerType(), True),\n",
    "   \n",
    "    StructField('score_naive', DoubleType(), True),\n",
    "    StructField('score_evo', DoubleType(), True),\n",
    "    \n",
    "    StructField('topic', StringType(), True),\n",
    "    StructField('topic_lda', StringType(), True),\n",
    "    \n",
    "    StructField(\"latitude\", DoubleType(), True),\n",
    "    StructField(\"longitude\", DoubleType(), True),\n",
    "    \n",
    "    StructField(\"isUS\", BooleanType(), True),\n",
    "    StructField(\"state\", StringType(), True),\n",
    "])"
   ]
  },
  {
   "cell_type": "code",
   "execution_count": 73,
   "metadata": {},
   "outputs": [
    {
     "name": "stdout",
     "output_type": "stream",
     "text": [
      "+-------------------+\n",
      "|           tweet_id|\n",
      "+-------------------+\n",
      "|1240728065983959040|\n",
      "|1240728187136610306|\n",
      "|1240728221986906113|\n",
      "|1240728361556750338|\n",
      "|1240728639358017536|\n",
      "|1240728647524323338|\n",
      "|1240728942664794112|\n",
      "|1240728970368253953|\n",
      "|1240729290427248645|\n",
      "|1240729372363014147|\n",
      "|1240729785883639808|\n",
      "|1240729879525679105|\n",
      "|1240730058974621696|\n",
      "|1240731018220404736|\n",
      "|1240731410614358021|\n",
      "|1240732013029502981|\n",
      "|1240732830411501568|\n",
      "|1240732896958115841|\n",
      "|1240733109584347136|\n",
      "|1240733265461272578|\n",
      "+-------------------+\n",
      "only showing top 20 rows\n",
      "\n"
     ]
    }
   ],
   "source": [
    "df_all_tweet_ids = spark.read.csv('../data/processed/all_tweet_ids.csv', header=True)\n",
    "\n",
    "df_all_tweet_ids.show()\n",
    "total_num_tweets = df_all_tweet_ids.count()"
   ]
  },
  {
   "cell_type": "code",
   "execution_count": 47,
   "metadata": {},
   "outputs": [
    {
     "name": "stdout",
     "output_type": "stream",
     "text": [
      "root\n",
      " |-- id: long (nullable = true)\n",
      " |-- prediction: double (nullable = true)\n",
      " |-- weighted_label: double (nullable = true)\n",
      "\n",
      "root\n",
      " |-- id: long (nullable = true)\n",
      " |-- topic_index: string (nullable = true)\n",
      " |-- topic_label: string (nullable = true)\n",
      "\n",
      "+-------------------+----------+-------------------+-----------+---------------+\n",
      "|                 id|prediction|     weighted_label|topic_index|    topic_label|\n",
      "+-------------------+----------+-------------------+-----------+---------------+\n",
      "|1246892082888945666|       0.0|0.34590212711893237|    Topic 1|          Other|\n",
      "|1246892725158449152|       1.0| 0.9765624810792524|    Topic 1|          Other|\n",
      "|1246894604307312640|       1.0| 0.9851553133346029|    Topic 2|Social Distance|\n",
      "|1246894744174759950|       0.0| 0.2760483246626915|    Topic 3|          Masks|\n",
      "|1246895626236964873|       0.0|0.14001506904275743|    Topic 4|       Lockdown|\n",
      "|1246895919536246785|       0.0|0.17449963481495315|    Topic 1|          Other|\n",
      "|1246897071942250497|       1.0| 0.8543327716853997|    Topic 4|       Lockdown|\n",
      "|1246897241505357825|       1.0| 0.9830659284577496|    Topic 4|       Lockdown|\n",
      "|1246897416785321998|       1.0|  0.735493380423729|    Topic 2|Social Distance|\n",
      "|1246897425136209923|       1.0| 0.5737551961218135|    Topic 4|       Lockdown|\n",
      "|1246898088440193034|       0.0|0.12992516781064642|    Topic 2|Social Distance|\n",
      "|1246898124511014912|       1.0|  0.928115814377008|    Topic 4|       Lockdown|\n",
      "|1246898487071047683|       0.0|   0.45853145414812|    Topic 4|       Lockdown|\n",
      "|1246898498647318531|       1.0| 0.7681840055067002|    Topic 1|          Other|\n",
      "|1246898647666774018|       1.0| 0.7903242310491239|    Topic 3|          Masks|\n",
      "|1246899966708027392|       1.0| 0.5423491006688814|    Topic 2|Social Distance|\n",
      "|1246900078243012609|       1.0| 0.9852174886700732|    Topic 1|          Other|\n",
      "|1246900278088986624|       0.0| 0.0643817585263642|    Topic 4|       Lockdown|\n",
      "|1246901306083721216|       1.0| 0.9994160054306568|    Topic 1|          Other|\n",
      "|1246901908280877057|       1.0|  0.956067558096318|    Topic 2|Social Distance|\n",
      "+-------------------+----------+-------------------+-----------+---------------+\n",
      "only showing top 20 rows\n",
      "\n"
     ]
    }
   ],
   "source": [
    "df = spark.read.csv(LABELED_PATH + '/' + '*.csv', header=True, schema=df_schema)\n",
    "df_lda = spark.read.csv(LDA_PATH + '/' + '*.csv', header=False, schema=lda_schema)\n",
    "df.printSchema()\n",
    "df_lda.printSchema()\n",
    "\n",
    "df_tableau = df.join(lda, on=['id'])\n",
    "\n",
    "df_tableau.show()"
   ]
  },
  {
   "cell_type": "code",
   "execution_count": 108,
   "metadata": {},
   "outputs": [],
   "source": [
    "tweet_ids = [list(row) for row in df_all_tweet_ids.collect()]\n",
    "\n",
    "path = DATA_PROCESSED_TWEETS_PATH + '/' + DATA_FULL_TWEETS_DIRECTORY + '/' + '*.jsonl'\n",
    "df_tweets = spark.read.json(path, multiLine=True)\n",
    "\n",
    "df_tweets = df_tweets.select('id', 'place', 'coordinates', 'created_at')"
   ]
  },
  {
   "cell_type": "code",
   "execution_count": 109,
   "metadata": {},
   "outputs": [
    {
     "name": "stdout",
     "output_type": "stream",
     "text": [
      "root\n",
      " |-- id: long (nullable = true)\n",
      " |-- prediction: double (nullable = true)\n",
      " |-- weighted_label: double (nullable = true)\n",
      " |-- topic_index: string (nullable = true)\n",
      " |-- topic_label: string (nullable = true)\n",
      " |-- place: struct (nullable = true)\n",
      " |    |-- bounding_box: struct (nullable = true)\n",
      " |    |    |-- coordinates: array (nullable = true)\n",
      " |    |    |    |-- element: array (containsNull = true)\n",
      " |    |    |    |    |-- element: array (containsNull = true)\n",
      " |    |    |    |    |    |-- element: double (containsNull = true)\n",
      " |    |    |-- type: string (nullable = true)\n",
      " |    |-- contained_within: array (nullable = true)\n",
      " |    |    |-- element: string (containsNull = true)\n",
      " |    |-- country: string (nullable = true)\n",
      " |    |-- country_code: string (nullable = true)\n",
      " |    |-- full_name: string (nullable = true)\n",
      " |    |-- id: string (nullable = true)\n",
      " |    |-- name: string (nullable = true)\n",
      " |    |-- place_type: string (nullable = true)\n",
      " |    |-- url: string (nullable = true)\n",
      " |-- coordinates: struct (nullable = true)\n",
      " |    |-- coordinates: array (nullable = true)\n",
      " |    |    |-- element: double (containsNull = true)\n",
      " |    |-- type: string (nullable = true)\n",
      " |-- created_at: string (nullable = true)\n",
      " |-- place: struct (nullable = true)\n",
      " |    |-- bounding_box: struct (nullable = true)\n",
      " |    |    |-- coordinates: array (nullable = true)\n",
      " |    |    |    |-- element: array (containsNull = true)\n",
      " |    |    |    |    |-- element: array (containsNull = true)\n",
      " |    |    |    |    |    |-- element: double (containsNull = true)\n",
      " |    |    |-- type: string (nullable = true)\n",
      " |    |-- contained_within: array (nullable = true)\n",
      " |    |    |-- element: string (containsNull = true)\n",
      " |    |-- country: string (nullable = true)\n",
      " |    |-- country_code: string (nullable = true)\n",
      " |    |-- full_name: string (nullable = true)\n",
      " |    |-- id: string (nullable = true)\n",
      " |    |-- name: string (nullable = true)\n",
      " |    |-- place_type: string (nullable = true)\n",
      " |    |-- url: string (nullable = true)\n",
      " |-- coordinates: struct (nullable = true)\n",
      " |    |-- coordinates: array (nullable = true)\n",
      " |    |    |-- element: double (containsNull = true)\n",
      " |    |-- type: string (nullable = true)\n",
      " |-- created_at: string (nullable = true)\n",
      "\n"
     ]
    },
    {
     "data": {
      "text/plain": [
       "Row(id=1283997638673801216, prediction=0.0, weighted_label=0.355967552135683, topic_index='success fit day time lockdown slip manga pull average step goal forgot capture night long walk collect', topic_label=None, place=Row(bounding_box=Row(coordinates=[[[-2.353808, 52.0924673], [-2.286305, 52.0924673], [-2.286305, 52.1462783], [-2.353808, 52.1462783]]], type='Polygon'), contained_within=[], country='United Kingdom', country_code='GB', full_name='Great Malvern, England', id='1cea65b77bc560b3', name='Great Malvern', place_type='city', url='https://api.twitter.com/1.1/geo/id/1cea65b77bc560b3.json'), coordinates=Row(coordinates=[-2.31667, 52.1167], type='Point'), created_at='Fri Jul 17 05:31:07 +0000 2020', place=Row(bounding_box=Row(coordinates=[[[-2.353808, 52.0924673], [-2.286305, 52.0924673], [-2.286305, 52.1462783], [-2.353808, 52.1462783]]], type='Polygon'), contained_within=[], country='United Kingdom', country_code='GB', full_name='Great Malvern, England', id='1cea65b77bc560b3', name='Great Malvern', place_type='city', url='https://api.twitter.com/1.1/geo/id/1cea65b77bc560b3.json'), coordinates=Row(coordinates=[-2.31667, 52.1167], type='Point'), created_at='Fri Jul 17 05:31:07 +0000 2020')"
      ]
     },
     "execution_count": 109,
     "metadata": {},
     "output_type": "execute_result"
    }
   ],
   "source": [
    "df_tableau = df_tableau.join(df_tweets, on=['id'])\n",
    "df_tableau.printSchema()\n",
    "df_tableau.first()"
   ]
  },
  {
   "cell_type": "code",
   "execution_count": null,
   "metadata": {},
   "outputs": [],
   "source": []
  }
 ],
 "metadata": {
  "kernelspec": {
   "display_name": "Python 3",
   "language": "python",
   "name": "python3"
  },
  "language_info": {
   "codemirror_mode": {
    "name": "ipython",
    "version": 3
   },
   "file_extension": ".py",
   "mimetype": "text/x-python",
   "name": "python",
   "nbconvert_exporter": "python",
   "pygments_lexer": "ipython3",
   "version": "3.8.6"
  }
 },
 "nbformat": 4,
 "nbformat_minor": 4
}
