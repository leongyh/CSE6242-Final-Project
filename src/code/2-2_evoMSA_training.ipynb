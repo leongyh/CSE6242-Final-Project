{
 "cells": [
  {
   "cell_type": "code",
   "execution_count": 1,
   "metadata": {},
   "outputs": [
    {
     "name": "stdout",
     "output_type": "stream",
     "text": [
      "Requirement already satisfied: cython in /opt/conda/lib/python3.7/site-packages (0.29.21)\n",
      "Requirement already satisfied: sparsearray in /opt/conda/lib/python3.7/site-packages (0.8.16)\n",
      "Requirement already satisfied: evodag in /opt/conda/lib/python3.7/site-packages (0.16.3)\n",
      "Requirement already satisfied: SparseArray in /opt/conda/lib/python3.7/site-packages (from evodag) (0.8.16)\n",
      "Requirement already satisfied: numpy in /opt/conda/lib/python3.7/site-packages (from evodag) (1.19.2)\n",
      "Requirement already satisfied: EvoMSA in /opt/conda/lib/python3.7/site-packages (1.2.4)\n",
      "Requirement already satisfied: ConceptModelling in /opt/conda/lib/python3.7/site-packages (from EvoMSA) (0.1.2)\n",
      "Requirement already satisfied: B4MSA in /opt/conda/lib/python3.7/site-packages (from EvoMSA) (2.1.1)\n",
      "Requirement already satisfied: microtc in /opt/conda/lib/python3.7/site-packages (from B4MSA->EvoMSA) (2.2.5)\n",
      "Requirement already satisfied: nltk in /opt/conda/lib/python3.7/site-packages (3.5)\n",
      "Requirement already satisfied: click in /opt/conda/lib/python3.7/site-packages (from nltk) (7.1.2)\n",
      "Requirement already satisfied: joblib in /opt/conda/lib/python3.7/site-packages (from nltk) (0.17.0)\n",
      "Requirement already satisfied: regex in /opt/conda/lib/python3.7/site-packages (from nltk) (2020.10.28)\n",
      "Requirement already satisfied: tqdm in /opt/conda/lib/python3.7/site-packages (from nltk) (4.42.0)\n"
     ]
    }
   ],
   "source": [
    "!pip install cython\n",
    "!pip install sparsearray\n",
    "!pip install evodag\n",
    "!pip install EvoMSA\n",
    "!pip install nltk"
   ]
  },
  {
   "cell_type": "code",
   "execution_count": 2,
   "metadata": {},
   "outputs": [
    {
     "name": "stderr",
     "output_type": "stream",
     "text": [
      "[nltk_data] Downloading package stopwords to /home/bob/nltk_data...\n",
      "[nltk_data]   Package stopwords is already up-to-date!\n"
     ]
    },
    {
     "data": {
      "text/plain": [
       "True"
      ]
     },
     "execution_count": 2,
     "metadata": {},
     "output_type": "execute_result"
    }
   ],
   "source": [
    "from EvoMSA import base\n",
    "import pandas as pd\n",
    "import nltk\n",
    "import numpy as np\n",
    "import os\n",
    "nltk.download('stopwords')"
   ]
  },
  {
   "cell_type": "markdown",
   "metadata": {},
   "source": [
    "# Load Data"
   ]
  },
  {
   "cell_type": "code",
   "execution_count": 45,
   "metadata": {},
   "outputs": [],
   "source": [
    "STS_RAW_TRAIN_PATH = 'data/sts/training.1600000.processed.noemoticon.csv'\n",
    "STS_RAW_TEST_PATH  = 'data/sts/testdata.manual.2009.06.14.csv'\n",
    "\n",
    "STS_PROCESED_TRAIN_PATH = 'data/processed/sts/sts_train/part-00000-cb0067aa-b4b0-432b-b2a1-76cd252321ab-c000.csv'\n",
    "STS_PROCESED_TEST_PATH  = 'data/processed/sts/sts_test/part-00000-5bbb61a5-5ed0-4537-a2bf-e42828225936-c000.csv'\n",
    "\n",
    "COVID_PROCESSED_PATH = 'data/processed/full-tweets-sanitized/tweets-santized/Tweets_fully_processed.csv'"
   ]
  },
  {
   "cell_type": "code",
   "execution_count": 4,
   "metadata": {},
   "outputs": [],
   "source": [
    "df_sts_train = pd.read_csv(STS_RAW_TRAIN_PATH, \n",
    "                           sep=',', \n",
    "                           header=None,\n",
    "                           usecols=[0,1,5],\n",
    "                           names=['label','id','text'],\n",
    "                           dtype={'id':np.int64, 'text':\"string\",'label':\"string\"},\n",
    "                           encoding = \"ISO-8859-1\", \n",
    "                           engine='python')\n"
   ]
  },
  {
   "cell_type": "code",
   "execution_count": 5,
   "metadata": {},
   "outputs": [
    {
     "data": {
      "text/html": [
       "<div>\n",
       "<style scoped>\n",
       "    .dataframe tbody tr th:only-of-type {\n",
       "        vertical-align: middle;\n",
       "    }\n",
       "\n",
       "    .dataframe tbody tr th {\n",
       "        vertical-align: top;\n",
       "    }\n",
       "\n",
       "    .dataframe thead th {\n",
       "        text-align: right;\n",
       "    }\n",
       "</style>\n",
       "<table border=\"1\" class=\"dataframe\">\n",
       "  <thead>\n",
       "    <tr style=\"text-align: right;\">\n",
       "      <th></th>\n",
       "      <th>label</th>\n",
       "      <th>id</th>\n",
       "      <th>text</th>\n",
       "    </tr>\n",
       "  </thead>\n",
       "  <tbody>\n",
       "    <tr>\n",
       "      <th>0</th>\n",
       "      <td>0</td>\n",
       "      <td>1467810369</td>\n",
       "      <td>@switchfoot http://twitpic.com/2y1zl - Awww, t...</td>\n",
       "    </tr>\n",
       "    <tr>\n",
       "      <th>1</th>\n",
       "      <td>0</td>\n",
       "      <td>1467810672</td>\n",
       "      <td>is upset that he can't update his Facebook by ...</td>\n",
       "    </tr>\n",
       "    <tr>\n",
       "      <th>2</th>\n",
       "      <td>0</td>\n",
       "      <td>1467810917</td>\n",
       "      <td>@Kenichan I dived many times for the ball. Man...</td>\n",
       "    </tr>\n",
       "    <tr>\n",
       "      <th>3</th>\n",
       "      <td>0</td>\n",
       "      <td>1467811184</td>\n",
       "      <td>my whole body feels itchy and like its on fire</td>\n",
       "    </tr>\n",
       "    <tr>\n",
       "      <th>4</th>\n",
       "      <td>0</td>\n",
       "      <td>1467811193</td>\n",
       "      <td>@nationwideclass no, it's not behaving at all....</td>\n",
       "    </tr>\n",
       "  </tbody>\n",
       "</table>\n",
       "</div>"
      ],
      "text/plain": [
       "  label          id                                               text\n",
       "0     0  1467810369  @switchfoot http://twitpic.com/2y1zl - Awww, t...\n",
       "1     0  1467810672  is upset that he can't update his Facebook by ...\n",
       "2     0  1467810917  @Kenichan I dived many times for the ball. Man...\n",
       "3     0  1467811184    my whole body feels itchy and like its on fire \n",
       "4     0  1467811193  @nationwideclass no, it's not behaving at all...."
      ]
     },
     "execution_count": 5,
     "metadata": {},
     "output_type": "execute_result"
    }
   ],
   "source": [
    "df_sts_train.head(5)"
   ]
  },
  {
   "cell_type": "code",
   "execution_count": 6,
   "metadata": {},
   "outputs": [
    {
     "data": {
      "text/plain": [
       "label    string\n",
       "id        int64\n",
       "text     string\n",
       "dtype: object"
      ]
     },
     "execution_count": 6,
     "metadata": {},
     "output_type": "execute_result"
    }
   ],
   "source": [
    "df_sts_train.dtypes"
   ]
  },
  {
   "cell_type": "markdown",
   "metadata": {},
   "source": [
    "# Train evoMSA model\n",
    "Train the evoMSA model"
   ]
  },
  {
   "cell_type": "code",
   "execution_count": 7,
   "metadata": {},
   "outputs": [],
   "source": [
    "from sklearn import model_selection"
   ]
  },
  {
   "cell_type": "code",
   "execution_count": 8,
   "metadata": {},
   "outputs": [],
   "source": [
    "train = df_sts_train.sample(40000)"
   ]
  },
  {
   "cell_type": "code",
   "execution_count": 9,
   "metadata": {},
   "outputs": [],
   "source": [
    "from sklearn.svm import LinearSVC\n",
    "class MySVM(LinearSVC):\n",
    "  def __init__(self, max_iter=50000, **kwargs):\n",
    "    super(MySVM, self).__init__(max_iter=max_iter, **kwargs)"
   ]
  },
  {
   "cell_type": "code",
   "execution_count": 10,
   "metadata": {},
   "outputs": [],
   "source": [
    "from EvoMSA.utils import download"
   ]
  },
  {
   "cell_type": "code",
   "execution_count": 11,
   "metadata": {},
   "outputs": [],
   "source": [
    "models = [[\"b4msa.textmodel.TextModel\", MySVM],\n",
    "          [download(\"emo_En.tm\"), MySVM],\n",
    "          [\"EvoMSA.model.ThumbsUpDownEn\", MySVM]]"
   ]
  },
  {
   "cell_type": "code",
   "execution_count": 12,
   "metadata": {},
   "outputs": [],
   "source": [
    "evo = base.EvoMSA(TR=False, models=models, classifier=True, lang='en', n_jobs=0,tm_n_jobs=0)"
   ]
  },
  {
   "cell_type": "code",
   "execution_count": 13,
   "metadata": {},
   "outputs": [],
   "source": [
    "del df_sts_train"
   ]
  },
  {
   "cell_type": "code",
   "execution_count": 14,
   "metadata": {},
   "outputs": [
    {
     "name": "stderr",
     "output_type": "stream",
     "text": [
      "2020-11-10 10:42:30,432 : INFO : sws for  english\n",
      "2020-11-10 10:42:30,439 : INFO : loading emotions from file... /opt/conda/lib/python3.7/site-packages/ConceptModelling/data/en.affective.words.json \n",
      "100%|██████████| 3/3 [01:03<00:00, 21.17s/it]\n",
      "100%|██████████| 5/5 [00:02<00:00,  1.70it/s]\n",
      "100%|██████████| 5/5 [02:17<00:00, 27.46s/it] \n",
      "100%|██████████| 5/5 [00:03<00:00,  1.52it/s]\n",
      "100%|██████████| 30/30 [42:17<00:00, 84.59s/it]  \n"
     ]
    },
    {
     "data": {
      "text/plain": [
       "<EvoMSA.base.EvoMSA at 0x7ff9a1224a90>"
      ]
     },
     "execution_count": 14,
     "metadata": {},
     "output_type": "execute_result"
    }
   ],
   "source": [
    "evo.fit(train.text, train.label)"
   ]
  },
  {
   "cell_type": "markdown",
   "metadata": {},
   "source": [
    "# Performance"
   ]
  },
  {
   "cell_type": "code",
   "execution_count": 26,
   "metadata": {},
   "outputs": [],
   "source": [
    "df_sts_test = pd.read_csv(STS_RAW_TEST_PATH, \n",
    "                           sep=',',\n",
    "                           header=None,\n",
    "                           usecols=[0,1,5],\n",
    "                           names=['label','id','text'],\n",
    "                           dtype={'id':np.int64, 'text':\"string\",'label':\"string\"},\n",
    "                           encoding = \"ISO-8859-1\", \n",
    "                           engine='python')"
   ]
  },
  {
   "cell_type": "code",
   "execution_count": 27,
   "metadata": {},
   "outputs": [
    {
     "name": "stderr",
     "output_type": "stream",
     "text": [
      "100%|██████████| 3/3 [00:00<00:00,  3.06it/s]\n",
      "100%|██████████| 3/3 [00:00<00:00, 256.88it/s]\n",
      "100%|██████████| 30/30 [00:02<00:00, 14.32it/s]\n"
     ]
    },
    {
     "data": {
      "text/plain": [
       "array([0])"
      ]
     },
     "execution_count": 27,
     "metadata": {},
     "output_type": "execute_result"
    }
   ],
   "source": [
    "evo.predict(['sad'])"
   ]
  },
  {
   "cell_type": "code",
   "execution_count": 32,
   "metadata": {},
   "outputs": [
    {
     "name": "stderr",
     "output_type": "stream",
     "text": [
      "100%|██████████| 3/3 [00:00<00:00,  3.14it/s]\n",
      "100%|██████████| 3/3 [00:00<00:00, 315.92it/s]\n",
      "100%|██████████| 30/30 [00:01<00:00, 15.88it/s]\n"
     ]
    },
    {
     "data": {
      "text/plain": [
       "array([4])"
      ]
     },
     "execution_count": 32,
     "metadata": {},
     "output_type": "execute_result"
    }
   ],
   "source": [
    "evo.predict(['happy'])"
   ]
  },
  {
   "cell_type": "code",
   "execution_count": 28,
   "metadata": {},
   "outputs": [],
   "source": [
    "from sklearn import metrics"
   ]
  },
  {
   "cell_type": "code",
   "execution_count": 29,
   "metadata": {},
   "outputs": [
    {
     "data": {
      "text/html": [
       "<div>\n",
       "<style scoped>\n",
       "    .dataframe tbody tr th:only-of-type {\n",
       "        vertical-align: middle;\n",
       "    }\n",
       "\n",
       "    .dataframe tbody tr th {\n",
       "        vertical-align: top;\n",
       "    }\n",
       "\n",
       "    .dataframe thead th {\n",
       "        text-align: right;\n",
       "    }\n",
       "</style>\n",
       "<table border=\"1\" class=\"dataframe\">\n",
       "  <thead>\n",
       "    <tr style=\"text-align: right;\">\n",
       "      <th></th>\n",
       "      <th>label</th>\n",
       "      <th>id</th>\n",
       "      <th>text</th>\n",
       "    </tr>\n",
       "  </thead>\n",
       "  <tbody>\n",
       "    <tr>\n",
       "      <th>0</th>\n",
       "      <td>4</td>\n",
       "      <td>3</td>\n",
       "      <td>@stellargirl I loooooooovvvvvveee my Kindle2. ...</td>\n",
       "    </tr>\n",
       "    <tr>\n",
       "      <th>1</th>\n",
       "      <td>4</td>\n",
       "      <td>4</td>\n",
       "      <td>Reading my kindle2...  Love it... Lee childs i...</td>\n",
       "    </tr>\n",
       "    <tr>\n",
       "      <th>2</th>\n",
       "      <td>4</td>\n",
       "      <td>5</td>\n",
       "      <td>Ok, first assesment of the #kindle2 ...it fuck...</td>\n",
       "    </tr>\n",
       "    <tr>\n",
       "      <th>3</th>\n",
       "      <td>4</td>\n",
       "      <td>6</td>\n",
       "      <td>@kenburbary You'll love your Kindle2. I've had...</td>\n",
       "    </tr>\n",
       "    <tr>\n",
       "      <th>4</th>\n",
       "      <td>4</td>\n",
       "      <td>7</td>\n",
       "      <td>@mikefish  Fair enough. But i have the Kindle2...</td>\n",
       "    </tr>\n",
       "    <tr>\n",
       "      <th>...</th>\n",
       "      <td>...</td>\n",
       "      <td>...</td>\n",
       "      <td>...</td>\n",
       "    </tr>\n",
       "    <tr>\n",
       "      <th>492</th>\n",
       "      <td>4</td>\n",
       "      <td>14071</td>\n",
       "      <td>After using LaTeX a lot, any other typeset mat...</td>\n",
       "    </tr>\n",
       "    <tr>\n",
       "      <th>494</th>\n",
       "      <td>0</td>\n",
       "      <td>14073</td>\n",
       "      <td>On that note, I hate Word. I hate Pages. I hat...</td>\n",
       "    </tr>\n",
       "    <tr>\n",
       "      <th>495</th>\n",
       "      <td>4</td>\n",
       "      <td>14074</td>\n",
       "      <td>Ahhh... back in a *real* text editing environm...</td>\n",
       "    </tr>\n",
       "    <tr>\n",
       "      <th>496</th>\n",
       "      <td>0</td>\n",
       "      <td>14075</td>\n",
       "      <td>Trouble in Iran, I see. Hmm. Iran. Iran so far...</td>\n",
       "    </tr>\n",
       "    <tr>\n",
       "      <th>497</th>\n",
       "      <td>0</td>\n",
       "      <td>14076</td>\n",
       "      <td>Reading the tweets coming out of Iran... The w...</td>\n",
       "    </tr>\n",
       "  </tbody>\n",
       "</table>\n",
       "<p>359 rows × 3 columns</p>\n",
       "</div>"
      ],
      "text/plain": [
       "    label     id                                               text\n",
       "0       4      3  @stellargirl I loooooooovvvvvveee my Kindle2. ...\n",
       "1       4      4  Reading my kindle2...  Love it... Lee childs i...\n",
       "2       4      5  Ok, first assesment of the #kindle2 ...it fuck...\n",
       "3       4      6  @kenburbary You'll love your Kindle2. I've had...\n",
       "4       4      7  @mikefish  Fair enough. But i have the Kindle2...\n",
       "..    ...    ...                                                ...\n",
       "492     4  14071  After using LaTeX a lot, any other typeset mat...\n",
       "494     0  14073  On that note, I hate Word. I hate Pages. I hat...\n",
       "495     4  14074  Ahhh... back in a *real* text editing environm...\n",
       "496     0  14075  Trouble in Iran, I see. Hmm. Iran. Iran so far...\n",
       "497     0  14076  Reading the tweets coming out of Iran... The w...\n",
       "\n",
       "[359 rows x 3 columns]"
      ]
     },
     "execution_count": 29,
     "metadata": {},
     "output_type": "execute_result"
    }
   ],
   "source": [
    "df_sts_test = df_sts_test[df_sts_test.label!='2']\n",
    "df_sts_test"
   ]
  },
  {
   "cell_type": "code",
   "execution_count": 30,
   "metadata": {},
   "outputs": [
    {
     "name": "stderr",
     "output_type": "stream",
     "text": [
      "100%|██████████| 3/3 [00:01<00:00,  1.98it/s]\n",
      "100%|██████████| 3/3 [00:00<00:00, 98.81it/s]\n",
      "100%|██████████| 30/30 [00:02<00:00, 12.95it/s]\n"
     ]
    }
   ],
   "source": [
    "pred = evo.predict(df_sts_test.text)"
   ]
  },
  {
   "cell_type": "code",
   "execution_count": 33,
   "metadata": {},
   "outputs": [
    {
     "data": {
      "text/plain": [
       "0.8103362545838773"
      ]
     },
     "execution_count": 33,
     "metadata": {},
     "output_type": "execute_result"
    }
   ],
   "source": [
    "metrics.f1_score(df_sts_test.label.astype(int), pred, average='macro' )"
   ]
  },
  {
   "cell_type": "code",
   "execution_count": 34,
   "metadata": {},
   "outputs": [
    {
     "name": "stdout",
     "output_type": "stream",
     "text": [
      "Confusion matrix:\n",
      " [[139  38]\n",
      " [ 30 152]]\n"
     ]
    },
    {
     "data": {
      "image/png": "[encoded data removed]",
      "text/plain": [
       "<Figure size 432x288 with 2 Axes>"
      ]
     },
     "metadata": {
      "needs_background": "light"
     },
     "output_type": "display_data"
    }
   ],
   "source": [
    "from sklearn.metrics import confusion_matrix\n",
    "from matplotlib import pyplot as plt\n",
    "\n",
    "conf_mat = confusion_matrix(df_sts_test.label.astype(int), y_pred=pred)\n",
    "print('Confusion matrix:\\n', conf_mat)\n",
    "\n",
    "labels = ['0','4']\n",
    "fig = plt.figure()\n",
    "ax = fig.add_subplot(111)\n",
    "cax = ax.matshow(conf_mat, cmap=plt.cm.Blues)\n",
    "fig.colorbar(cax)\n",
    "ax.set_xticklabels([''] + labels)\n",
    "ax.set_yticklabels([''] + labels)\n",
    "plt.xlabel('Predicted')\n",
    "plt.ylabel('Expected')\n",
    "plt.show()"
   ]
  },
  {
   "cell_type": "markdown",
   "metadata": {},
   "source": [
    "# Labeling COVID Dataset"
   ]
  },
  {
   "cell_type": "code",
   "execution_count": 57,
   "metadata": {},
   "outputs": [],
   "source": [
    "COVID_LABELED_PATH = 'data/processed/full-tweets-sanitized/tweets-santized/COVID_processed_labeled.csv'"
   ]
  },
  {
   "cell_type": "code",
   "execution_count": 47,
   "metadata": {},
   "outputs": [],
   "source": [
    "covid_data = pd.read_csv(COVID_PROCESSED_PATH, \n",
    "                           sep=',', \n",
    "                           header=None,\n",
    "                           names=['id','text'],\n",
    "                           dtype={'id':'string', 'text':\"string\"},\n",
    "                           encoding = \"ISO-8859-1\", \n",
    "                           engine='python')\n"
   ]
  },
  {
   "cell_type": "code",
   "execution_count": 49,
   "metadata": {},
   "outputs": [],
   "source": [
    "covid_data.dropna(inplace=True)"
   ]
  },
  {
   "cell_type": "code",
   "execution_count": 50,
   "metadata": {},
   "outputs": [
    {
     "name": "stderr",
     "output_type": "stream",
     "text": [
      "\n",
      "  0%|          | 0/3 [00:00<?, ?it/s]\u001b[A\n",
      " 33%|███▎      | 1/3 [02:15<04:31, 135.59s/it]\u001b[A\n",
      " 67%|██████▋   | 2/3 [04:30<02:15, 135.38s/it]\u001b[A\n",
      "100%|██████████| 3/3 [06:43<00:00, 134.62s/it]\u001b[A\n",
      "\n",
      "  0%|          | 0/3 [00:00<?, ?it/s]\u001b[A\n",
      " 33%|███▎      | 1/3 [00:04<00:08,  4.29s/it]\u001b[A\n",
      " 67%|██████▋   | 2/3 [00:05<00:03,  3.22s/it]\u001b[A\n",
      "100%|██████████| 3/3 [00:06<00:00,  2.11s/it]\u001b[A\n",
      "\n",
      "  0%|          | 0/30 [00:00<?, ?it/s]\u001b[A\n",
      "  3%|▎         | 1/30 [00:02<01:19,  2.73s/it]\u001b[A\n",
      "  7%|▋         | 2/30 [00:09<01:50,  3.94s/it]\u001b[A\n",
      " 10%|█         | 3/30 [00:09<01:17,  2.87s/it]\u001b[A\n",
      " 13%|█▎        | 4/30 [00:10<00:53,  2.05s/it]\u001b[A\n",
      " 17%|█▋        | 5/30 [00:13<01:04,  2.57s/it]\u001b[A\n",
      " 20%|██        | 6/30 [00:14<00:49,  2.06s/it]\u001b[A\n",
      " 23%|██▎       | 7/30 [00:16<00:42,  1.86s/it]\u001b[A\n",
      " 27%|██▋       | 8/30 [00:18<00:46,  2.13s/it]\u001b[A\n",
      " 30%|███       | 9/30 [00:19<00:32,  1.56s/it]\u001b[A\n",
      " 33%|███▎      | 10/30 [00:20<00:31,  1.58s/it]\u001b[A\n",
      " 37%|███▋      | 11/30 [00:23<00:34,  1.83s/it]\u001b[A\n",
      " 40%|████      | 12/30 [00:28<00:53,  2.95s/it]\u001b[A\n",
      " 47%|████▋     | 14/30 [00:30<00:38,  2.40s/it]\u001b[A\n",
      " 50%|█████     | 15/30 [00:32<00:31,  2.12s/it]\u001b[A\n",
      " 53%|█████▎    | 16/30 [00:33<00:24,  1.75s/it]\u001b[A\n",
      " 57%|█████▋    | 17/30 [00:36<00:30,  2.34s/it]\u001b[A\n",
      " 60%|██████    | 18/30 [00:41<00:35,  2.93s/it]\u001b[A\n",
      " 63%|██████▎   | 19/30 [00:42<00:25,  2.30s/it]\u001b[A\n",
      " 67%|██████▋   | 20/30 [00:45<00:25,  2.56s/it]\u001b[A\n",
      " 70%|███████   | 21/30 [00:55<00:43,  4.86s/it]\u001b[A\n",
      " 73%|███████▎  | 22/30 [00:57<00:32,  4.11s/it]\u001b[A\n",
      " 77%|███████▋  | 23/30 [00:58<00:21,  3.02s/it]\u001b[A\n",
      " 80%|████████  | 24/30 [00:58<00:13,  2.24s/it]\u001b[A\n",
      " 83%|████████▎ | 25/30 [00:59<00:08,  1.69s/it]\u001b[A\n",
      " 87%|████████▋ | 26/30 [01:06<00:14,  3.53s/it]\u001b[A\n",
      " 90%|█████████ | 27/30 [01:08<00:08,  2.92s/it]\u001b[A\n",
      " 93%|█████████▎| 28/30 [01:15<00:08,  4.13s/it]\u001b[A\n",
      "100%|██████████| 30/30 [03:12<00:00,  6.41s/it]\u001b[A\n"
     ]
    }
   ],
   "source": [
    "covid_pred = evo.predict(covid_data.text)"
   ]
  },
  {
   "cell_type": "code",
   "execution_count": 51,
   "metadata": {},
   "outputs": [],
   "source": [
    "covid_data['label'] = covid_pred"
   ]
  },
  {
   "cell_type": "code",
   "execution_count": 58,
   "metadata": {},
   "outputs": [],
   "source": [
    "covid_data.to_csv(COVID_LABELED_PATH, index = False, header=True)"
   ]
  },
  {
   "cell_type": "code",
   "execution_count": null,
   "metadata": {},
   "outputs": [],
   "source": []
  }
 ],
 "metadata": {
  "kernelspec": {
   "display_name": "Python 3",
   "language": "python",
   "name": "python3"
  },
  "language_info": {
   "codemirror_mode": {
    "name": "ipython",
    "version": 3
   },
   "file_extension": ".py",
   "mimetype": "text/x-python",
   "name": "python",
   "nbconvert_exporter": "python",
   "pygments_lexer": "ipython3",
   "version": "3.8.6"
  }
 },
 "nbformat": 4,
 "nbformat_minor": 4
}
