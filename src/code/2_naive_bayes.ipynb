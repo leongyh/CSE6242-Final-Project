{
 "cells": [
  {
   "cell_type": "code",
   "execution_count": 17,
   "metadata": {},
   "outputs": [],
   "source": [
    "import os\n",
    "\n",
    "from pyspark.sql import SparkSession\n",
    "from pyspark.sql.types import StructType, StructField, IntegerType, StringType, DateType"
   ]
  },
  {
   "cell_type": "code",
   "execution_count": 9,
   "metadata": {},
   "outputs": [],
   "source": [
    "STS_PATH = '../data/sts'"
   ]
  },
  {
   "cell_type": "code",
   "execution_count": 11,
   "metadata": {},
   "outputs": [],
   "source": [
    "spark = SparkSession.builder.master('local').appName('local').getOrCreate()"
   ]
  },
  {
   "cell_type": "markdown",
   "metadata": {},
   "source": [
    "# Load Data\n",
    "We load the STS and COVID-19 dataset."
   ]
  },
  {
   "cell_type": "code",
   "execution_count": 12,
   "metadata": {},
   "outputs": [],
   "source": [
    "STS_TRAIN_FILENAME = 'training.1600000.processed.noemoticon.csv'\n",
    "STS_TRAIN_PATH     = STS_PATH + '/' + STS_TRAIN_FILENAME\n",
    "STS_TEST_FILENAME  = 'testdata.manual.2009.06.14.csv'\n",
    "STS_TEST_PATH      = STS_PATH + '/' + STS_TRAIN_FILENAME\n",
    "\n",
    "COVID_DATA_PATH = '../data/processed/full-tweets'"
   ]
  },
  {
   "cell_type": "code",
   "execution_count": 22,
   "metadata": {},
   "outputs": [],
   "source": [
    "sts_schema = StructType([\n",
    "    StructField('label', IntegerType(), True),\n",
    "    StructField('id', IntegerType(), True),\n",
    "    StructField('date', StringType(), True),\n",
    "    StructField('query', StringType(), True),\n",
    "    StructField('user', StringType(), True),\n",
    "    StructField('text', StringType(), True),\n",
    "])"
   ]
  },
  {
   "cell_type": "code",
   "execution_count": 36,
   "metadata": {},
   "outputs": [],
   "source": [
    "df_sts_train = spark.read.csv(STS_TRAIN_PATH, header=False, schema=sts_schema)\n",
    "\n",
    "df_sts_test = spark.read.csv(STS_TEST_PATH, header=False, schema=sts_schema)\n",
    "\n",
    "df_covid = spark.read.json(COVID_DATA_PATH + '/' + '*.jsonl')"
   ]
  },
  {
   "cell_type": "code",
   "execution_count": null,
   "metadata": {},
   "outputs": [],
   "source": []
  }
 ],
 "metadata": {
  "kernelspec": {
   "display_name": "Python 3",
   "language": "python",
   "name": "python3"
  },
  "language_info": {
   "codemirror_mode": {
    "name": "ipython",
    "version": 3
   },
   "file_extension": ".py",
   "mimetype": "text/x-python",
   "name": "python",
   "nbconvert_exporter": "python",
   "pygments_lexer": "ipython3",
   "version": "3.8.6"
  }
 },
 "nbformat": 4,
 "nbformat_minor": 4
}
