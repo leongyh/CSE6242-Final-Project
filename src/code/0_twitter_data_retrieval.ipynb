{
 "cells": [
  {
   "cell_type": "code",
   "execution_count": 26,
   "metadata": {},
   "outputs": [],
   "source": [
    "import os\n",
    "import csv\n",
    "import json\n",
    "import re\n",
    "\n",
    "import twarc\n",
    "import pandas as pd"
   ]
  },
  {
   "cell_type": "code",
   "execution_count": 3,
   "metadata": {},
   "outputs": [],
   "source": [
    "DATA_RAW_TWEETS_PATH       = '../data/raw'\n",
    "DATA_PROCESSED_TWEETS_PATH = '../data/processed'\n",
    "\n",
    "TWITTER_CONSUMER_KEY        = os.environ['CONSUMER_KEY']\n",
    "TWITTER_CONSUMER_SECRET     = os.environ['CONSUMER_SECRET']\n",
    "TWITTER_ACCESS_TOKEN        = os.environ['ACCESS_TOKEN']\n",
    "TWITTER_ACCESS_TOKEN_SECRET = os.environ['ACCESS_TOKEN_SECRET']"
   ]
  },
  {
   "cell_type": "markdown",
   "metadata": {},
   "source": [
    "# Aggregate Raw Data\n",
    "\n",
    "We first aggregate the raw data, which contains filtered Tweet IDs and processed sentiment values, into a just a list of Tweet IDs."
   ]
  },
  {
   "cell_type": "code",
   "execution_count": 23,
   "metadata": {},
   "outputs": [],
   "source": [
    "TWEET_IDS_FILENAME = 'all_tweet_ids.csv'\n",
    "\n",
    "if not os.path.isdir(DATA_PROCESSED_TWEETS_PATH):\n",
    "    os.mkdir(DATA_PROCESSED_TWEETS_PATH)\n",
    "\n",
    "if os.path.isfile(DATA_PROCESSED_TWEETS_PATH + '/' + TWEET_IDS_FILENAME):\n",
    "    os.remove(DATA_PROCESSED_TWEETS_PATH + '/' + TWEET_IDS_FILENAME)\n",
    "\n",
    "df_files = []\n",
    "\n",
    "for filename in os.listdir(DATA_RAW_TWEETS_PATH):\n",
    "    filepath = DATA_RAW_TWEETS_PATH + '/' + filename\n",
    "    \n",
    "    df = pd.read_csv(filepath, names=['tweet_id', 'sentiment_value'], header=None)\n",
    "    df_files.append(df)\n",
    "            \n",
    "df_all_tweet_ids = pd.concat(df_files, axis=0, ignore_index=True)['tweet_id']\n",
    "df_all_tweet_ids = df_all_tweet_ids.sort_values(ascending=True)\n",
    "df_all_tweet_ids.to_csv(DATA_PROCESSED_TWEETS_PATH + '/' + TWEET_IDS_FILENAME, index=False)"
   ]
  },
  {
   "cell_type": "markdown",
   "metadata": {},
   "source": [
    "Number of Tweets"
   ]
  },
  {
   "cell_type": "code",
   "execution_count": 24,
   "metadata": {},
   "outputs": [
    {
     "data": {
      "text/plain": [
       "241481"
      ]
     },
     "execution_count": 24,
     "metadata": {},
     "output_type": "execute_result"
    }
   ],
   "source": [
    "df_all_tweet_ids.count()"
   ]
  },
  {
   "cell_type": "markdown",
   "metadata": {},
   "source": [
    "# Hydrate Tweets\n",
    "Hydrate all the aggregated Tweet IDs from the previous step."
   ]
  },
  {
   "cell_type": "code",
   "execution_count": 10,
   "metadata": {},
   "outputs": [],
   "source": [
    "twarc_client = twarc.Twarc(TWITTER_CONSUMER_KEY, TWITTER_CONSUMER_SECRET, TWITTER_ACCESS_TOKEN, TWITTER_ACCESS_TOKEN_SECRET)"
   ]
  },
  {
   "cell_type": "code",
   "execution_count": 47,
   "metadata": {},
   "outputs": [],
   "source": [
    "DATA_FULL_TWEETS_DIRECTORY   = 'full-tweets'\n",
    "DATA_FULL_TWEETS_FILE_PREFIX = 'tweets-'\n",
    "NUM_TWEETS_PER_FILE          = 1000 # Do not change\n",
    "\n",
    "def resolve_cache(path):\n",
    "    max_num = -1\n",
    "    \n",
    "    for filename in os.listdir(path):\n",
    "        res = re.search(rf'^{re.escape(DATA_FULL_TWEETS_FILE_PREFIX)}(\\d+)\\.jsonl', filename)\n",
    "        \n",
    "        if res:\n",
    "            num = res.group(1)\n",
    "        \n",
    "            if max_num < int(num):\n",
    "                max_num = int(num)\n",
    "            \n",
    "    return max_num"
   ]
  },
  {
   "cell_type": "code",
   "execution_count": 48,
   "metadata": {},
   "outputs": [],
   "source": [
    "if not os.path.isdir(DATA_PROCESSED_TWEETS_PATH + '/' + DATA_FULL_TWEETS_DIRECTORY):\n",
    "    os.mkdir(DATA_PROCESSED_TWEETS_PATH + '/' + DATA_FULL_TWEETS_DIRECTORY)\n",
    "    \n",
    "latest_num = resolve_cache(DATA_PROCESSED_TWEETS_PATH + '/' + DATA_FULL_TWEETS_DIRECTORY)\n",
    "\n",
    "if latest_num > -1:\n",
    "    os.remove(DATA_PROCESSED_TWEETS_PATH + '/' + DATA_FULL_TWEETS_DIRECTORY + '/' + DATA_FULL_TWEETS_FILE_PREFIX + str(latest_num) + '.jsonl')\n",
    "else:\n",
    "   latest_num = 0 \n",
    "    \n",
    "total_num_tweets = df_all_tweet_ids.count()\n",
    "\n",
    "for i in range(latest_num, (total_num_tweets // NUM_TWEETS_PER_FILE) + 1):\n",
    "    ids = df_all_tweet_ids[i*NUM_TWEETS_PER_FILE:(i+1)*NUM_TWEETS_PER_FILE].tolist()\n",
    "    \n",
    "    with open(DATA_PROCESSED_TWEETS_PATH + '/' + DATA_FULL_TWEETS_DIRECTORY + '/' + DATA_FULL_TWEETS_FILE_PREFIX + str(i) + '.jsonl', 'w') as file:\n",
    "        for tweet in twarc_client.hydrate(ids):\n",
    "            tweet_json = json.dump(tweet, file)\n",
    "            file.write('\\n')"
   ]
  },
  {
   "cell_type": "code",
   "execution_count": null,
   "metadata": {},
   "outputs": [],
   "source": []
  }
 ],
 "metadata": {
  "kernelspec": {
   "display_name": "Python 3",
   "language": "python",
   "name": "python3"
  },
  "language_info": {
   "codemirror_mode": {
    "name": "ipython",
    "version": 3
   },
   "file_extension": ".py",
   "mimetype": "text/x-python",
   "name": "python",
   "nbconvert_exporter": "python",
   "pygments_lexer": "ipython3",
   "version": "3.7.4"
  }
 },
 "nbformat": 4,
 "nbformat_minor": 4
}
